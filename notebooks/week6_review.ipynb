{
 "cells": [
  {
   "cell_type": "code",
   "execution_count": 1,
   "metadata": {},
   "outputs": [],
   "source": [
    "import pandas as pd\n",
    "import matplotlib.pyplot as plt\n",
    "import seaborn as sns\n",
    "from sklearn.model_selection import train_test_split\n",
    "from sklearn.linear_model import LogisticRegression\n",
    "from sklearn.ensemble import RandomForestClassifier\n",
    "from sklearn import metrics\n",
    "from sklearn.preprocessing import StandardScaler\n",
    "\n",
    "from cm import plot_confusion_matrix\n",
    "\n",
    "%matplotlib inline"
   ]
  },
  {
   "cell_type": "markdown",
   "metadata": {},
   "source": [
    "### Reading in and examining the heart attack cost disparities data"
   ]
  },
  {
   "cell_type": "code",
   "execution_count": 2,
   "metadata": {},
   "outputs": [
    {
     "data": {
      "text/html": [
       "<div>\n",
       "<style scoped>\n",
       "    .dataframe tbody tr th:only-of-type {\n",
       "        vertical-align: middle;\n",
       "    }\n",
       "\n",
       "    .dataframe tbody tr th {\n",
       "        vertical-align: top;\n",
       "    }\n",
       "\n",
       "    .dataframe thead th {\n",
       "        text-align: right;\n",
       "    }\n",
       "</style>\n",
       "<table border=\"1\" class=\"dataframe\">\n",
       "  <thead>\n",
       "    <tr style=\"text-align: right;\">\n",
       "      <th></th>\n",
       "      <th>year</th>\n",
       "      <th>geography</th>\n",
       "      <th>measure</th>\n",
       "      <th>adjustment</th>\n",
       "      <th>analysis</th>\n",
       "      <th>domain</th>\n",
       "      <th>condition</th>\n",
       "      <th>primary_sex</th>\n",
       "      <th>primary_age</th>\n",
       "      <th>primary_dual</th>\n",
       "      <th>fips</th>\n",
       "      <th>county</th>\n",
       "      <th>state</th>\n",
       "      <th>urban</th>\n",
       "      <th>primary_race</th>\n",
       "      <th>primary_denominator</th>\n",
       "      <th>analysis_value</th>\n",
       "    </tr>\n",
       "  </thead>\n",
       "  <tbody>\n",
       "    <tr>\n",
       "      <th>0</th>\n",
       "      <td>2017</td>\n",
       "      <td>County</td>\n",
       "      <td>Average total cost</td>\n",
       "      <td>Unsmoothed actual</td>\n",
       "      <td>Base measure</td>\n",
       "      <td>Primary chronic conditions</td>\n",
       "      <td>Acute myocardial infarction</td>\n",
       "      <td>All</td>\n",
       "      <td>All</td>\n",
       "      <td>Dual &amp; non-dual</td>\n",
       "      <td>1001</td>\n",
       "      <td>Autauga County</td>\n",
       "      <td>ALABAMA</td>\n",
       "      <td>Urban</td>\n",
       "      <td>All</td>\n",
       "      <td>undefined</td>\n",
       "      <td>40470</td>\n",
       "    </tr>\n",
       "    <tr>\n",
       "      <th>1</th>\n",
       "      <td>2017</td>\n",
       "      <td>County</td>\n",
       "      <td>Average total cost</td>\n",
       "      <td>Unsmoothed actual</td>\n",
       "      <td>Base measure</td>\n",
       "      <td>Primary chronic conditions</td>\n",
       "      <td>Acute myocardial infarction</td>\n",
       "      <td>All</td>\n",
       "      <td>All</td>\n",
       "      <td>Dual &amp; non-dual</td>\n",
       "      <td>1003</td>\n",
       "      <td>Baldwin County</td>\n",
       "      <td>ALABAMA</td>\n",
       "      <td>Rural</td>\n",
       "      <td>All</td>\n",
       "      <td>undefined</td>\n",
       "      <td>36615</td>\n",
       "    </tr>\n",
       "  </tbody>\n",
       "</table>\n",
       "</div>"
      ],
      "text/plain": [
       "   year geography             measure         adjustment      analysis  \\\n",
       "0  2017    County  Average total cost  Unsmoothed actual  Base measure   \n",
       "1  2017    County  Average total cost  Unsmoothed actual  Base measure   \n",
       "\n",
       "                       domain                    condition primary_sex  \\\n",
       "0  Primary chronic conditions  Acute myocardial infarction         All   \n",
       "1  Primary chronic conditions  Acute myocardial infarction         All   \n",
       "\n",
       "  primary_age     primary_dual  fips          county    state  urban  \\\n",
       "0         All  Dual & non-dual  1001  Autauga County  ALABAMA  Urban   \n",
       "1         All  Dual & non-dual  1003  Baldwin County  ALABAMA  Rural   \n",
       "\n",
       "  primary_race primary_denominator  analysis_value  \n",
       "0          All           undefined           40470  \n",
       "1          All           undefined           36615  "
      ]
     },
     "execution_count": 2,
     "metadata": {},
     "output_type": "execute_result"
    }
   ],
   "source": [
    "ha_costs_df = pd.read_csv('../data/mmd_heart_attack_data.csv') \n",
    "ha_costs_df.head(2)"
   ]
  },
  {
   "cell_type": "markdown",
   "metadata": {},
   "source": [
    "### Now examining the cancer data"
   ]
  },
  {
   "cell_type": "code",
   "execution_count": 3,
   "metadata": {},
   "outputs": [
    {
     "data": {
      "text/html": [
       "<div>\n",
       "<style scoped>\n",
       "    .dataframe tbody tr th:only-of-type {\n",
       "        vertical-align: middle;\n",
       "    }\n",
       "\n",
       "    .dataframe tbody tr th {\n",
       "        vertical-align: top;\n",
       "    }\n",
       "\n",
       "    .dataframe thead th {\n",
       "        text-align: right;\n",
       "    }\n",
       "</style>\n",
       "<table border=\"1\" class=\"dataframe\">\n",
       "  <thead>\n",
       "    <tr style=\"text-align: right;\">\n",
       "      <th></th>\n",
       "      <th>year</th>\n",
       "      <th>geography</th>\n",
       "      <th>measure</th>\n",
       "      <th>adjustment</th>\n",
       "      <th>analysis</th>\n",
       "      <th>domain</th>\n",
       "      <th>condition</th>\n",
       "      <th>primary_sex</th>\n",
       "      <th>primary_age</th>\n",
       "      <th>primary_dual</th>\n",
       "      <th>fips</th>\n",
       "      <th>county</th>\n",
       "      <th>state</th>\n",
       "      <th>urban</th>\n",
       "      <th>primary_race</th>\n",
       "      <th>primary_denominator</th>\n",
       "      <th>analysis_value</th>\n",
       "    </tr>\n",
       "  </thead>\n",
       "  <tbody>\n",
       "    <tr>\n",
       "      <th>0</th>\n",
       "      <td>2017</td>\n",
       "      <td>County</td>\n",
       "      <td>Average total cost</td>\n",
       "      <td>Unsmoothed actual</td>\n",
       "      <td>Base measure</td>\n",
       "      <td>Primary chronic conditions</td>\n",
       "      <td>Cancer, Colorectal, Breast, Prostate, Lung</td>\n",
       "      <td>All</td>\n",
       "      <td>All</td>\n",
       "      <td>Dual &amp; non-dual</td>\n",
       "      <td>1001</td>\n",
       "      <td>Autauga County</td>\n",
       "      <td>ALABAMA</td>\n",
       "      <td>Urban</td>\n",
       "      <td>All</td>\n",
       "      <td>undefined</td>\n",
       "      <td>19293</td>\n",
       "    </tr>\n",
       "    <tr>\n",
       "      <th>1</th>\n",
       "      <td>2017</td>\n",
       "      <td>County</td>\n",
       "      <td>Average total cost</td>\n",
       "      <td>Unsmoothed actual</td>\n",
       "      <td>Base measure</td>\n",
       "      <td>Primary chronic conditions</td>\n",
       "      <td>Cancer, Colorectal, Breast, Prostate, Lung</td>\n",
       "      <td>All</td>\n",
       "      <td>All</td>\n",
       "      <td>Dual &amp; non-dual</td>\n",
       "      <td>1003</td>\n",
       "      <td>Baldwin County</td>\n",
       "      <td>ALABAMA</td>\n",
       "      <td>Rural</td>\n",
       "      <td>All</td>\n",
       "      <td>undefined</td>\n",
       "      <td>17151</td>\n",
       "    </tr>\n",
       "  </tbody>\n",
       "</table>\n",
       "</div>"
      ],
      "text/plain": [
       "   year geography             measure         adjustment      analysis  \\\n",
       "0  2017    County  Average total cost  Unsmoothed actual  Base measure   \n",
       "1  2017    County  Average total cost  Unsmoothed actual  Base measure   \n",
       "\n",
       "                       domain                                   condition  \\\n",
       "0  Primary chronic conditions  Cancer, Colorectal, Breast, Prostate, Lung   \n",
       "1  Primary chronic conditions  Cancer, Colorectal, Breast, Prostate, Lung   \n",
       "\n",
       "  primary_sex primary_age     primary_dual  fips          county    state  \\\n",
       "0         All         All  Dual & non-dual  1001  Autauga County  ALABAMA   \n",
       "1         All         All  Dual & non-dual  1003  Baldwin County  ALABAMA   \n",
       "\n",
       "   urban primary_race primary_denominator  analysis_value  \n",
       "0  Urban          All           undefined           19293  \n",
       "1  Rural          All           undefined           17151  "
      ]
     },
     "execution_count": 3,
     "metadata": {},
     "output_type": "execute_result"
    }
   ],
   "source": [
    "cancer_costs_df = pd.read_csv('../data/mmd_cancer_data.csv')\n",
    "cancer_costs_df.head(2)"
   ]
  },
  {
   "cell_type": "markdown",
   "metadata": {},
   "source": [
    "### Getting the income data and cleaning it a bit"
   ]
  },
  {
   "cell_type": "code",
   "execution_count": 4,
   "metadata": {},
   "outputs": [
    {
     "data": {
      "text/html": [
       "<div>\n",
       "<style scoped>\n",
       "    .dataframe tbody tr th:only-of-type {\n",
       "        vertical-align: middle;\n",
       "    }\n",
       "\n",
       "    .dataframe tbody tr th {\n",
       "        vertical-align: top;\n",
       "    }\n",
       "\n",
       "    .dataframe thead th {\n",
       "        text-align: right;\n",
       "    }\n",
       "</style>\n",
       "<table border=\"1\" class=\"dataframe\">\n",
       "  <thead>\n",
       "    <tr style=\"text-align: right;\">\n",
       "      <th></th>\n",
       "      <th>STATEFIPS</th>\n",
       "      <th>STATE</th>\n",
       "      <th>COUNTYFIPS</th>\n",
       "      <th>COUNTYNAME</th>\n",
       "      <th>agi_stub</th>\n",
       "      <th>N1</th>\n",
       "      <th>mars1</th>\n",
       "      <th>MARS2</th>\n",
       "      <th>MARS4</th>\n",
       "      <th>PREP</th>\n",
       "      <th>...</th>\n",
       "      <th>N10300</th>\n",
       "      <th>A10300</th>\n",
       "      <th>N85530</th>\n",
       "      <th>A85530</th>\n",
       "      <th>N85300</th>\n",
       "      <th>A85300</th>\n",
       "      <th>N11901</th>\n",
       "      <th>A11901</th>\n",
       "      <th>N11902</th>\n",
       "      <th>A11902</th>\n",
       "    </tr>\n",
       "  </thead>\n",
       "  <tbody>\n",
       "    <tr>\n",
       "      <th>0</th>\n",
       "      <td>1</td>\n",
       "      <td>AL</td>\n",
       "      <td>0</td>\n",
       "      <td>Alabama</td>\n",
       "      <td>1</td>\n",
       "      <td>26450</td>\n",
       "      <td>14680</td>\n",
       "      <td>9740</td>\n",
       "      <td>680</td>\n",
       "      <td>17780</td>\n",
       "      <td>...</td>\n",
       "      <td>4300</td>\n",
       "      <td>9256</td>\n",
       "      <td>70</td>\n",
       "      <td>57</td>\n",
       "      <td>0</td>\n",
       "      <td>0</td>\n",
       "      <td>2590</td>\n",
       "      <td>3685</td>\n",
       "      <td>11510</td>\n",
       "      <td>35079</td>\n",
       "    </tr>\n",
       "    <tr>\n",
       "      <th>1</th>\n",
       "      <td>1</td>\n",
       "      <td>AL</td>\n",
       "      <td>0</td>\n",
       "      <td>Alabama</td>\n",
       "      <td>2</td>\n",
       "      <td>285760</td>\n",
       "      <td>217880</td>\n",
       "      <td>25170</td>\n",
       "      <td>39740</td>\n",
       "      <td>143390</td>\n",
       "      <td>...</td>\n",
       "      <td>70050</td>\n",
       "      <td>40569</td>\n",
       "      <td>0</td>\n",
       "      <td>0</td>\n",
       "      <td>0</td>\n",
       "      <td>0</td>\n",
       "      <td>22720</td>\n",
       "      <td>11109</td>\n",
       "      <td>237630</td>\n",
       "      <td>263152</td>\n",
       "    </tr>\n",
       "  </tbody>\n",
       "</table>\n",
       "<p>2 rows × 148 columns</p>\n",
       "</div>"
      ],
      "text/plain": [
       "   STATEFIPS STATE  COUNTYFIPS COUNTYNAME  agi_stub      N1   mars1  MARS2  \\\n",
       "0          1    AL           0    Alabama         1   26450   14680   9740   \n",
       "1          1    AL           0    Alabama         2  285760  217880  25170   \n",
       "\n",
       "   MARS4    PREP  ...  N10300  A10300  N85530  A85530  N85300  A85300  N11901  \\\n",
       "0    680   17780  ...    4300    9256      70      57       0       0    2590   \n",
       "1  39740  143390  ...   70050   40569       0       0       0       0   22720   \n",
       "\n",
       "   A11901  N11902  A11902  \n",
       "0    3685   11510   35079  \n",
       "1   11109  237630  263152  \n",
       "\n",
       "[2 rows x 148 columns]"
      ]
     },
     "execution_count": 4,
     "metadata": {},
     "output_type": "execute_result"
    }
   ],
   "source": [
    "income_df = pd.read_csv('../data/irs_county_2016.csv')\n",
    "income_df.head(2)"
   ]
  },
  {
   "cell_type": "code",
   "execution_count": 5,
   "metadata": {},
   "outputs": [
    {
     "data": {
      "text/html": [
       "<div>\n",
       "<style scoped>\n",
       "    .dataframe tbody tr th:only-of-type {\n",
       "        vertical-align: middle;\n",
       "    }\n",
       "\n",
       "    .dataframe tbody tr th {\n",
       "        vertical-align: top;\n",
       "    }\n",
       "\n",
       "    .dataframe thead th {\n",
       "        text-align: right;\n",
       "    }\n",
       "</style>\n",
       "<table border=\"1\" class=\"dataframe\">\n",
       "  <thead>\n",
       "    <tr style=\"text-align: right;\">\n",
       "      <th></th>\n",
       "      <th>state</th>\n",
       "      <th>county</th>\n",
       "      <th>income_bucket</th>\n",
       "      <th>return_count</th>\n",
       "      <th>single_returns</th>\n",
       "      <th>joint_returns</th>\n",
       "      <th>head_of_house_returns</th>\n",
       "      <th>exemptions</th>\n",
       "      <th>dependents</th>\n",
       "      <th>elderly</th>\n",
       "      <th>agi</th>\n",
       "      <th>returns_with_total_inc</th>\n",
       "      <th>total_inc_amt</th>\n",
       "      <th>returns_with_unemployment</th>\n",
       "      <th>unemployment_comp</th>\n",
       "    </tr>\n",
       "  </thead>\n",
       "  <tbody>\n",
       "    <tr>\n",
       "      <th>0</th>\n",
       "      <td>AL</td>\n",
       "      <td>Alabama</td>\n",
       "      <td>1</td>\n",
       "      <td>26450</td>\n",
       "      <td>14680</td>\n",
       "      <td>9740</td>\n",
       "      <td>680</td>\n",
       "      <td>40700</td>\n",
       "      <td>5590</td>\n",
       "      <td>13000</td>\n",
       "      <td>-1679314</td>\n",
       "      <td>19140</td>\n",
       "      <td>-1657452</td>\n",
       "      <td>60</td>\n",
       "      <td>203</td>\n",
       "    </tr>\n",
       "    <tr>\n",
       "      <th>1</th>\n",
       "      <td>AL</td>\n",
       "      <td>Alabama</td>\n",
       "      <td>2</td>\n",
       "      <td>285760</td>\n",
       "      <td>217880</td>\n",
       "      <td>25170</td>\n",
       "      <td>39740</td>\n",
       "      <td>296830</td>\n",
       "      <td>78450</td>\n",
       "      <td>48270</td>\n",
       "      <td>1582247</td>\n",
       "      <td>285760</td>\n",
       "      <td>1632624</td>\n",
       "      <td>4180</td>\n",
       "      <td>10772</td>\n",
       "    </tr>\n",
       "  </tbody>\n",
       "</table>\n",
       "</div>"
      ],
      "text/plain": [
       "  state   county  income_bucket  return_count  single_returns  joint_returns  \\\n",
       "0    AL  Alabama              1         26450           14680           9740   \n",
       "1    AL  Alabama              2        285760          217880          25170   \n",
       "\n",
       "   head_of_house_returns  exemptions  dependents  elderly      agi  \\\n",
       "0                    680       40700        5590    13000 -1679314   \n",
       "1                  39740      296830       78450    48270  1582247   \n",
       "\n",
       "   returns_with_total_inc  total_inc_amt  returns_with_unemployment  \\\n",
       "0                   19140       -1657452                         60   \n",
       "1                  285760        1632624                       4180   \n",
       "\n",
       "   unemployment_comp  \n",
       "0                203  \n",
       "1              10772  "
      ]
     },
     "execution_count": 5,
     "metadata": {},
     "output_type": "execute_result"
    }
   ],
   "source": [
    "income_df = income_df[['STATE', 'COUNTYNAME', 'agi_stub', 'N1', 'mars1', 'MARS2', 'MARS4', 'N2', 'NUMDEP', 'ELDERLY', 'A00100', 'N02650', 'A02650', 'N02300', 'A02300']]\n",
    "income_df.columns = ['state', 'county', 'income_bucket', 'return_count', 'single_returns', 'joint_returns', 'head_of_house_returns', 'exemptions', 'dependents', 'elderly', 'agi', 'returns_with_total_inc','total_inc_amt', 'returns_with_unemployment', 'unemployment_comp']\n",
    "income_df.head(2)"
   ]
  },
  {
   "cell_type": "markdown",
   "metadata": {},
   "source": [
    "#### Creating a new df that aggregates by state and county to get the totals for each county"
   ]
  },
  {
   "cell_type": "code",
   "execution_count": 6,
   "metadata": {},
   "outputs": [
    {
     "data": {
      "text/html": [
       "<div>\n",
       "<style scoped>\n",
       "    .dataframe tbody tr th:only-of-type {\n",
       "        vertical-align: middle;\n",
       "    }\n",
       "\n",
       "    .dataframe tbody tr th {\n",
       "        vertical-align: top;\n",
       "    }\n",
       "\n",
       "    .dataframe thead th {\n",
       "        text-align: right;\n",
       "    }\n",
       "</style>\n",
       "<table border=\"1\" class=\"dataframe\">\n",
       "  <thead>\n",
       "    <tr style=\"text-align: right;\">\n",
       "      <th></th>\n",
       "      <th>state</th>\n",
       "      <th>county</th>\n",
       "      <th>income_bucket</th>\n",
       "      <th>return_count</th>\n",
       "      <th>single_returns</th>\n",
       "      <th>joint_returns</th>\n",
       "      <th>head_of_house_returns</th>\n",
       "      <th>exemptions</th>\n",
       "      <th>dependents</th>\n",
       "      <th>elderly</th>\n",
       "      <th>agi</th>\n",
       "      <th>returns_with_total_inc</th>\n",
       "      <th>total_inc_amt</th>\n",
       "      <th>returns_with_unemployment</th>\n",
       "      <th>unemployment_comp</th>\n",
       "    </tr>\n",
       "  </thead>\n",
       "  <tbody>\n",
       "    <tr>\n",
       "      <th>0</th>\n",
       "      <td>AK</td>\n",
       "      <td>Alaska</td>\n",
       "      <td>36</td>\n",
       "      <td>348070</td>\n",
       "      <td>175480</td>\n",
       "      <td>126660</td>\n",
       "      <td>37340</td>\n",
       "      <td>654950</td>\n",
       "      <td>205660</td>\n",
       "      <td>71410</td>\n",
       "      <td>23514361</td>\n",
       "      <td>347600</td>\n",
       "      <td>23858011</td>\n",
       "      <td>83270</td>\n",
       "      <td>167460</td>\n",
       "    </tr>\n",
       "    <tr>\n",
       "      <th>1</th>\n",
       "      <td>AK</td>\n",
       "      <td>Aleutians East Borou</td>\n",
       "      <td>36</td>\n",
       "      <td>890</td>\n",
       "      <td>480</td>\n",
       "      <td>230</td>\n",
       "      <td>150</td>\n",
       "      <td>1570</td>\n",
       "      <td>500</td>\n",
       "      <td>160</td>\n",
       "      <td>42834</td>\n",
       "      <td>890</td>\n",
       "      <td>43596</td>\n",
       "      <td>190</td>\n",
       "      <td>466</td>\n",
       "    </tr>\n",
       "  </tbody>\n",
       "</table>\n",
       "</div>"
      ],
      "text/plain": [
       "  state                county  income_bucket  return_count  single_returns  \\\n",
       "0    AK                Alaska             36        348070          175480   \n",
       "1    AK  Aleutians East Borou             36           890             480   \n",
       "\n",
       "   joint_returns  head_of_house_returns  exemptions  dependents  elderly  \\\n",
       "0         126660                  37340      654950      205660    71410   \n",
       "1            230                    150        1570         500      160   \n",
       "\n",
       "        agi  returns_with_total_inc  total_inc_amt  returns_with_unemployment  \\\n",
       "0  23514361                  347600       23858011                      83270   \n",
       "1     42834                     890          43596                        190   \n",
       "\n",
       "   unemployment_comp  \n",
       "0             167460  \n",
       "1                466  "
      ]
     },
     "execution_count": 6,
     "metadata": {},
     "output_type": "execute_result"
    }
   ],
   "source": [
    "income_agg = income_df.groupby(['state','county']).agg('sum').reset_index()\n",
    "income_agg.head(2)"
   ]
  },
  {
   "cell_type": "code",
   "execution_count": 7,
   "metadata": {},
   "outputs": [],
   "source": [
    "income_agg['avg_income'] = round(income_agg.total_inc_amt * 1000 / income_agg.returns_with_total_inc, 0)"
   ]
  },
  {
   "cell_type": "markdown",
   "metadata": {},
   "source": [
    "#### Week 4 Coding Tasks\n",
    " - rename `analysis_value` columns in `ha_costs_df` and `cancer_costs_df`\n",
    " "
   ]
  },
  {
   "cell_type": "code",
   "execution_count": 8,
   "metadata": {},
   "outputs": [
    {
     "data": {
      "text/html": [
       "<div>\n",
       "<style scoped>\n",
       "    .dataframe tbody tr th:only-of-type {\n",
       "        vertical-align: middle;\n",
       "    }\n",
       "\n",
       "    .dataframe tbody tr th {\n",
       "        vertical-align: top;\n",
       "    }\n",
       "\n",
       "    .dataframe thead th {\n",
       "        text-align: right;\n",
       "    }\n",
       "</style>\n",
       "<table border=\"1\" class=\"dataframe\">\n",
       "  <thead>\n",
       "    <tr style=\"text-align: right;\">\n",
       "      <th></th>\n",
       "      <th>year</th>\n",
       "      <th>geography</th>\n",
       "      <th>measure</th>\n",
       "      <th>adjustment</th>\n",
       "      <th>analysis</th>\n",
       "      <th>domain</th>\n",
       "      <th>condition</th>\n",
       "      <th>primary_sex</th>\n",
       "      <th>primary_age</th>\n",
       "      <th>primary_dual</th>\n",
       "      <th>fips</th>\n",
       "      <th>county</th>\n",
       "      <th>state</th>\n",
       "      <th>urban</th>\n",
       "      <th>primary_race</th>\n",
       "      <th>primary_denominator</th>\n",
       "      <th>analysis_value</th>\n",
       "    </tr>\n",
       "  </thead>\n",
       "  <tbody>\n",
       "    <tr>\n",
       "      <th>0</th>\n",
       "      <td>2017</td>\n",
       "      <td>County</td>\n",
       "      <td>Average total cost</td>\n",
       "      <td>Unsmoothed actual</td>\n",
       "      <td>Base measure</td>\n",
       "      <td>Primary chronic conditions</td>\n",
       "      <td>Acute myocardial infarction</td>\n",
       "      <td>All</td>\n",
       "      <td>All</td>\n",
       "      <td>Dual &amp; non-dual</td>\n",
       "      <td>1001</td>\n",
       "      <td>Autauga County</td>\n",
       "      <td>ALABAMA</td>\n",
       "      <td>Urban</td>\n",
       "      <td>All</td>\n",
       "      <td>undefined</td>\n",
       "      <td>40470</td>\n",
       "    </tr>\n",
       "    <tr>\n",
       "      <th>1</th>\n",
       "      <td>2017</td>\n",
       "      <td>County</td>\n",
       "      <td>Average total cost</td>\n",
       "      <td>Unsmoothed actual</td>\n",
       "      <td>Base measure</td>\n",
       "      <td>Primary chronic conditions</td>\n",
       "      <td>Acute myocardial infarction</td>\n",
       "      <td>All</td>\n",
       "      <td>All</td>\n",
       "      <td>Dual &amp; non-dual</td>\n",
       "      <td>1003</td>\n",
       "      <td>Baldwin County</td>\n",
       "      <td>ALABAMA</td>\n",
       "      <td>Rural</td>\n",
       "      <td>All</td>\n",
       "      <td>undefined</td>\n",
       "      <td>36615</td>\n",
       "    </tr>\n",
       "  </tbody>\n",
       "</table>\n",
       "</div>"
      ],
      "text/plain": [
       "   year geography             measure         adjustment      analysis  \\\n",
       "0  2017    County  Average total cost  Unsmoothed actual  Base measure   \n",
       "1  2017    County  Average total cost  Unsmoothed actual  Base measure   \n",
       "\n",
       "                       domain                    condition primary_sex  \\\n",
       "0  Primary chronic conditions  Acute myocardial infarction         All   \n",
       "1  Primary chronic conditions  Acute myocardial infarction         All   \n",
       "\n",
       "  primary_age     primary_dual  fips          county    state  urban  \\\n",
       "0         All  Dual & non-dual  1001  Autauga County  ALABAMA  Urban   \n",
       "1         All  Dual & non-dual  1003  Baldwin County  ALABAMA  Rural   \n",
       "\n",
       "  primary_race primary_denominator  analysis_value  \n",
       "0          All           undefined           40470  \n",
       "1          All           undefined           36615  "
      ]
     },
     "execution_count": 8,
     "metadata": {},
     "output_type": "execute_result"
    }
   ],
   "source": [
    "ha_costs_df.head(2)"
   ]
  },
  {
   "cell_type": "code",
   "execution_count": 9,
   "metadata": {},
   "outputs": [
    {
     "data": {
      "text/html": [
       "<div>\n",
       "<style scoped>\n",
       "    .dataframe tbody tr th:only-of-type {\n",
       "        vertical-align: middle;\n",
       "    }\n",
       "\n",
       "    .dataframe tbody tr th {\n",
       "        vertical-align: top;\n",
       "    }\n",
       "\n",
       "    .dataframe thead th {\n",
       "        text-align: right;\n",
       "    }\n",
       "</style>\n",
       "<table border=\"1\" class=\"dataframe\">\n",
       "  <thead>\n",
       "    <tr style=\"text-align: right;\">\n",
       "      <th></th>\n",
       "      <th>year</th>\n",
       "      <th>geography</th>\n",
       "      <th>measure</th>\n",
       "      <th>adjustment</th>\n",
       "      <th>analysis</th>\n",
       "      <th>domain</th>\n",
       "      <th>condition</th>\n",
       "      <th>primary_sex</th>\n",
       "      <th>primary_age</th>\n",
       "      <th>primary_dual</th>\n",
       "      <th>fips</th>\n",
       "      <th>county</th>\n",
       "      <th>state</th>\n",
       "      <th>urban</th>\n",
       "      <th>primary_race</th>\n",
       "      <th>primary_denominator</th>\n",
       "      <th>ha_avg_cost</th>\n",
       "    </tr>\n",
       "  </thead>\n",
       "  <tbody>\n",
       "    <tr>\n",
       "      <th>0</th>\n",
       "      <td>2017</td>\n",
       "      <td>County</td>\n",
       "      <td>Average total cost</td>\n",
       "      <td>Unsmoothed actual</td>\n",
       "      <td>Base measure</td>\n",
       "      <td>Primary chronic conditions</td>\n",
       "      <td>Acute myocardial infarction</td>\n",
       "      <td>All</td>\n",
       "      <td>All</td>\n",
       "      <td>Dual &amp; non-dual</td>\n",
       "      <td>1001</td>\n",
       "      <td>Autauga County</td>\n",
       "      <td>ALABAMA</td>\n",
       "      <td>Urban</td>\n",
       "      <td>All</td>\n",
       "      <td>undefined</td>\n",
       "      <td>40470</td>\n",
       "    </tr>\n",
       "    <tr>\n",
       "      <th>1</th>\n",
       "      <td>2017</td>\n",
       "      <td>County</td>\n",
       "      <td>Average total cost</td>\n",
       "      <td>Unsmoothed actual</td>\n",
       "      <td>Base measure</td>\n",
       "      <td>Primary chronic conditions</td>\n",
       "      <td>Acute myocardial infarction</td>\n",
       "      <td>All</td>\n",
       "      <td>All</td>\n",
       "      <td>Dual &amp; non-dual</td>\n",
       "      <td>1003</td>\n",
       "      <td>Baldwin County</td>\n",
       "      <td>ALABAMA</td>\n",
       "      <td>Rural</td>\n",
       "      <td>All</td>\n",
       "      <td>undefined</td>\n",
       "      <td>36615</td>\n",
       "    </tr>\n",
       "  </tbody>\n",
       "</table>\n",
       "</div>"
      ],
      "text/plain": [
       "   year geography             measure         adjustment      analysis  \\\n",
       "0  2017    County  Average total cost  Unsmoothed actual  Base measure   \n",
       "1  2017    County  Average total cost  Unsmoothed actual  Base measure   \n",
       "\n",
       "                       domain                    condition primary_sex  \\\n",
       "0  Primary chronic conditions  Acute myocardial infarction         All   \n",
       "1  Primary chronic conditions  Acute myocardial infarction         All   \n",
       "\n",
       "  primary_age     primary_dual  fips          county    state  urban  \\\n",
       "0         All  Dual & non-dual  1001  Autauga County  ALABAMA  Urban   \n",
       "1         All  Dual & non-dual  1003  Baldwin County  ALABAMA  Rural   \n",
       "\n",
       "  primary_race primary_denominator  ha_avg_cost  \n",
       "0          All           undefined        40470  \n",
       "1          All           undefined        36615  "
      ]
     },
     "execution_count": 9,
     "metadata": {},
     "output_type": "execute_result"
    }
   ],
   "source": [
    "ha_costs_df = ha_costs_df.rename(columns = {'analysis_value': 'ha_avg_cost'})\n",
    "ha_costs_df.head(2)"
   ]
  },
  {
   "cell_type": "code",
   "execution_count": 10,
   "metadata": {},
   "outputs": [
    {
     "data": {
      "text/html": [
       "<div>\n",
       "<style scoped>\n",
       "    .dataframe tbody tr th:only-of-type {\n",
       "        vertical-align: middle;\n",
       "    }\n",
       "\n",
       "    .dataframe tbody tr th {\n",
       "        vertical-align: top;\n",
       "    }\n",
       "\n",
       "    .dataframe thead th {\n",
       "        text-align: right;\n",
       "    }\n",
       "</style>\n",
       "<table border=\"1\" class=\"dataframe\">\n",
       "  <thead>\n",
       "    <tr style=\"text-align: right;\">\n",
       "      <th></th>\n",
       "      <th>year</th>\n",
       "      <th>geography</th>\n",
       "      <th>measure</th>\n",
       "      <th>adjustment</th>\n",
       "      <th>analysis</th>\n",
       "      <th>domain</th>\n",
       "      <th>condition</th>\n",
       "      <th>primary_sex</th>\n",
       "      <th>primary_age</th>\n",
       "      <th>primary_dual</th>\n",
       "      <th>fips</th>\n",
       "      <th>county</th>\n",
       "      <th>state</th>\n",
       "      <th>urban</th>\n",
       "      <th>primary_race</th>\n",
       "      <th>primary_denominator</th>\n",
       "      <th>cancer_avg_cost</th>\n",
       "    </tr>\n",
       "  </thead>\n",
       "  <tbody>\n",
       "    <tr>\n",
       "      <th>0</th>\n",
       "      <td>2017</td>\n",
       "      <td>County</td>\n",
       "      <td>Average total cost</td>\n",
       "      <td>Unsmoothed actual</td>\n",
       "      <td>Base measure</td>\n",
       "      <td>Primary chronic conditions</td>\n",
       "      <td>Cancer, Colorectal, Breast, Prostate, Lung</td>\n",
       "      <td>All</td>\n",
       "      <td>All</td>\n",
       "      <td>Dual &amp; non-dual</td>\n",
       "      <td>1001</td>\n",
       "      <td>Autauga County</td>\n",
       "      <td>ALABAMA</td>\n",
       "      <td>Urban</td>\n",
       "      <td>All</td>\n",
       "      <td>undefined</td>\n",
       "      <td>19293</td>\n",
       "    </tr>\n",
       "    <tr>\n",
       "      <th>1</th>\n",
       "      <td>2017</td>\n",
       "      <td>County</td>\n",
       "      <td>Average total cost</td>\n",
       "      <td>Unsmoothed actual</td>\n",
       "      <td>Base measure</td>\n",
       "      <td>Primary chronic conditions</td>\n",
       "      <td>Cancer, Colorectal, Breast, Prostate, Lung</td>\n",
       "      <td>All</td>\n",
       "      <td>All</td>\n",
       "      <td>Dual &amp; non-dual</td>\n",
       "      <td>1003</td>\n",
       "      <td>Baldwin County</td>\n",
       "      <td>ALABAMA</td>\n",
       "      <td>Rural</td>\n",
       "      <td>All</td>\n",
       "      <td>undefined</td>\n",
       "      <td>17151</td>\n",
       "    </tr>\n",
       "  </tbody>\n",
       "</table>\n",
       "</div>"
      ],
      "text/plain": [
       "   year geography             measure         adjustment      analysis  \\\n",
       "0  2017    County  Average total cost  Unsmoothed actual  Base measure   \n",
       "1  2017    County  Average total cost  Unsmoothed actual  Base measure   \n",
       "\n",
       "                       domain                                   condition  \\\n",
       "0  Primary chronic conditions  Cancer, Colorectal, Breast, Prostate, Lung   \n",
       "1  Primary chronic conditions  Cancer, Colorectal, Breast, Prostate, Lung   \n",
       "\n",
       "  primary_sex primary_age     primary_dual  fips          county    state  \\\n",
       "0         All         All  Dual & non-dual  1001  Autauga County  ALABAMA   \n",
       "1         All         All  Dual & non-dual  1003  Baldwin County  ALABAMA   \n",
       "\n",
       "   urban primary_race primary_denominator  cancer_avg_cost  \n",
       "0  Urban          All           undefined            19293  \n",
       "1  Rural          All           undefined            17151  "
      ]
     },
     "execution_count": 10,
     "metadata": {},
     "output_type": "execute_result"
    }
   ],
   "source": [
    "cancer_costs_df = cancer_costs_df.rename(columns = {'analysis_value': 'cancer_avg_cost'})\n",
    "cancer_costs_df.head(2)"
   ]
  },
  {
   "cell_type": "markdown",
   "metadata": {},
   "source": [
    "#### Create a new dataframe  `combined_df` \n",
    "- merge `county`, `urban`, and `ha_avg_cost` from `ha_costs_df` with `county` and `cancer_avg_cost` from `cancer_costs_df`\n"
   ]
  },
  {
   "cell_type": "code",
   "execution_count": 11,
   "metadata": {},
   "outputs": [],
   "source": [
    "cancer_cost_sub = cancer_costs_df[['state', 'county', 'urban', 'cancer_avg_cost']]\n",
    "ha_cost_sub = ha_costs_df[['state','county', 'ha_avg_cost']]"
   ]
  },
  {
   "cell_type": "code",
   "execution_count": 12,
   "metadata": {},
   "outputs": [
    {
     "name": "stdout",
     "output_type": "stream",
     "text": [
      "(2656, 5)\n"
     ]
    },
    {
     "data": {
      "text/html": [
       "<div>\n",
       "<style scoped>\n",
       "    .dataframe tbody tr th:only-of-type {\n",
       "        vertical-align: middle;\n",
       "    }\n",
       "\n",
       "    .dataframe tbody tr th {\n",
       "        vertical-align: top;\n",
       "    }\n",
       "\n",
       "    .dataframe thead th {\n",
       "        text-align: right;\n",
       "    }\n",
       "</style>\n",
       "<table border=\"1\" class=\"dataframe\">\n",
       "  <thead>\n",
       "    <tr style=\"text-align: right;\">\n",
       "      <th></th>\n",
       "      <th>state</th>\n",
       "      <th>county</th>\n",
       "      <th>urban</th>\n",
       "      <th>cancer_avg_cost</th>\n",
       "      <th>ha_avg_cost</th>\n",
       "    </tr>\n",
       "  </thead>\n",
       "  <tbody>\n",
       "    <tr>\n",
       "      <th>0</th>\n",
       "      <td>ALABAMA</td>\n",
       "      <td>Autauga County</td>\n",
       "      <td>Urban</td>\n",
       "      <td>19293</td>\n",
       "      <td>40470</td>\n",
       "    </tr>\n",
       "    <tr>\n",
       "      <th>1</th>\n",
       "      <td>ALABAMA</td>\n",
       "      <td>Baldwin County</td>\n",
       "      <td>Rural</td>\n",
       "      <td>17151</td>\n",
       "      <td>36615</td>\n",
       "    </tr>\n",
       "  </tbody>\n",
       "</table>\n",
       "</div>"
      ],
      "text/plain": [
       "     state          county  urban  cancer_avg_cost  ha_avg_cost\n",
       "0  ALABAMA  Autauga County  Urban            19293        40470\n",
       "1  ALABAMA  Baldwin County  Rural            17151        36615"
      ]
     },
     "execution_count": 12,
     "metadata": {},
     "output_type": "execute_result"
    }
   ],
   "source": [
    "combined_df = pd.merge(cancer_cost_sub, ha_cost_sub, on = ['state', 'county'], how = 'inner')\n",
    "print(combined_df.shape)\n",
    "combined_df.head(2)"
   ]
  },
  {
   "cell_type": "markdown",
   "metadata": {},
   "source": [
    "#### Now combine all the data and create the cost_income_ratio variables\n",
    "\n",
    "- merge `avg_income` from `income_agg` with `combined_df` and save back to the `combined_df` variable  \n",
    "\n",
    "- create `ha_cost_income_ratio` (`ha_avg_cost` / `avg_income`)  \n",
    "\n",
    "- create `cancer_cost_income_ratio` (`cancer_avg_cost` / `avg_income`)"
   ]
  },
  {
   "cell_type": "code",
   "execution_count": 13,
   "metadata": {},
   "outputs": [
    {
     "data": {
      "text/html": [
       "<div>\n",
       "<style scoped>\n",
       "    .dataframe tbody tr th:only-of-type {\n",
       "        vertical-align: middle;\n",
       "    }\n",
       "\n",
       "    .dataframe tbody tr th {\n",
       "        vertical-align: top;\n",
       "    }\n",
       "\n",
       "    .dataframe thead th {\n",
       "        text-align: right;\n",
       "    }\n",
       "</style>\n",
       "<table border=\"1\" class=\"dataframe\">\n",
       "  <thead>\n",
       "    <tr style=\"text-align: right;\">\n",
       "      <th></th>\n",
       "      <th>state</th>\n",
       "      <th>county</th>\n",
       "      <th>avg_income</th>\n",
       "    </tr>\n",
       "  </thead>\n",
       "  <tbody>\n",
       "    <tr>\n",
       "      <th>0</th>\n",
       "      <td>AK</td>\n",
       "      <td>Alaska</td>\n",
       "      <td>68636.0</td>\n",
       "    </tr>\n",
       "    <tr>\n",
       "      <th>1</th>\n",
       "      <td>AK</td>\n",
       "      <td>Aleutians East Borou</td>\n",
       "      <td>48984.0</td>\n",
       "    </tr>\n",
       "  </tbody>\n",
       "</table>\n",
       "</div>"
      ],
      "text/plain": [
       "  state                county  avg_income\n",
       "0    AK                Alaska     68636.0\n",
       "1    AK  Aleutians East Borou     48984.0"
      ]
     },
     "execution_count": 13,
     "metadata": {},
     "output_type": "execute_result"
    }
   ],
   "source": [
    "county_incomes = income_agg[['state','county', 'avg_income']]\n",
    "county_incomes.head(2)"
   ]
  },
  {
   "cell_type": "markdown",
   "metadata": {},
   "source": [
    "#### Before you can merge county incomes and combined_df, the data is the `state` columns will need to match"
   ]
  },
  {
   "cell_type": "code",
   "execution_count": 14,
   "metadata": {},
   "outputs": [
    {
     "data": {
      "text/html": [
       "<div>\n",
       "<style scoped>\n",
       "    .dataframe tbody tr th:only-of-type {\n",
       "        vertical-align: middle;\n",
       "    }\n",
       "\n",
       "    .dataframe tbody tr th {\n",
       "        vertical-align: top;\n",
       "    }\n",
       "\n",
       "    .dataframe thead th {\n",
       "        text-align: right;\n",
       "    }\n",
       "</style>\n",
       "<table border=\"1\" class=\"dataframe\">\n",
       "  <thead>\n",
       "    <tr style=\"text-align: right;\">\n",
       "      <th></th>\n",
       "      <th>name</th>\n",
       "      <th>abbrev</th>\n",
       "    </tr>\n",
       "  </thead>\n",
       "  <tbody>\n",
       "    <tr>\n",
       "      <th>0</th>\n",
       "      <td>ALABAMA</td>\n",
       "      <td>AL</td>\n",
       "    </tr>\n",
       "    <tr>\n",
       "      <th>1</th>\n",
       "      <td>ALASKA</td>\n",
       "      <td>AK</td>\n",
       "    </tr>\n",
       "    <tr>\n",
       "      <th>2</th>\n",
       "      <td>ARIZONA</td>\n",
       "      <td>AZ</td>\n",
       "    </tr>\n",
       "  </tbody>\n",
       "</table>\n",
       "</div>"
      ],
      "text/plain": [
       "      name abbrev\n",
       "0  ALABAMA     AL\n",
       "1   ALASKA     AK\n",
       "2  ARIZONA     AZ"
      ]
     },
     "execution_count": 14,
     "metadata": {},
     "output_type": "execute_result"
    }
   ],
   "source": [
    "state_abbrev = pd.read_csv('../data/state_abbrev.csv')\n",
    "state_abbrev.head(3)"
   ]
  },
  {
   "cell_type": "code",
   "execution_count": 15,
   "metadata": {},
   "outputs": [
    {
     "data": {
      "text/html": [
       "<div>\n",
       "<style scoped>\n",
       "    .dataframe tbody tr th:only-of-type {\n",
       "        vertical-align: middle;\n",
       "    }\n",
       "\n",
       "    .dataframe tbody tr th {\n",
       "        vertical-align: top;\n",
       "    }\n",
       "\n",
       "    .dataframe thead th {\n",
       "        text-align: right;\n",
       "    }\n",
       "</style>\n",
       "<table border=\"1\" class=\"dataframe\">\n",
       "  <thead>\n",
       "    <tr style=\"text-align: right;\">\n",
       "      <th></th>\n",
       "      <th>state</th>\n",
       "      <th>county</th>\n",
       "      <th>urban</th>\n",
       "      <th>cancer_avg_cost</th>\n",
       "      <th>ha_avg_cost</th>\n",
       "    </tr>\n",
       "  </thead>\n",
       "  <tbody>\n",
       "    <tr>\n",
       "      <th>0</th>\n",
       "      <td>AL</td>\n",
       "      <td>Autauga County</td>\n",
       "      <td>Urban</td>\n",
       "      <td>19293</td>\n",
       "      <td>40470</td>\n",
       "    </tr>\n",
       "    <tr>\n",
       "      <th>1</th>\n",
       "      <td>AL</td>\n",
       "      <td>Baldwin County</td>\n",
       "      <td>Rural</td>\n",
       "      <td>17151</td>\n",
       "      <td>36615</td>\n",
       "    </tr>\n",
       "    <tr>\n",
       "      <th>2</th>\n",
       "      <td>AL</td>\n",
       "      <td>Barbour County</td>\n",
       "      <td>Rural</td>\n",
       "      <td>19469</td>\n",
       "      <td>46509</td>\n",
       "    </tr>\n",
       "    <tr>\n",
       "      <th>3</th>\n",
       "      <td>AL</td>\n",
       "      <td>Bibb County</td>\n",
       "      <td>Urban</td>\n",
       "      <td>17234</td>\n",
       "      <td>42949</td>\n",
       "    </tr>\n",
       "    <tr>\n",
       "      <th>4</th>\n",
       "      <td>AL</td>\n",
       "      <td>Blount County</td>\n",
       "      <td>Urban</td>\n",
       "      <td>20317</td>\n",
       "      <td>50067</td>\n",
       "    </tr>\n",
       "  </tbody>\n",
       "</table>\n",
       "</div>"
      ],
      "text/plain": [
       "  state          county  urban  cancer_avg_cost  ha_avg_cost\n",
       "0    AL  Autauga County  Urban            19293        40470\n",
       "1    AL  Baldwin County  Rural            17151        36615\n",
       "2    AL  Barbour County  Rural            19469        46509\n",
       "3    AL     Bibb County  Urban            17234        42949\n",
       "4    AL   Blount County  Urban            20317        50067"
      ]
     },
     "execution_count": 15,
     "metadata": {},
     "output_type": "execute_result"
    }
   ],
   "source": [
    "combined_df['state'] = combined_df.state.map(state_abbrev.set_index('name')['abbrev'].to_dict())\n",
    "combined_df.head()"
   ]
  },
  {
   "cell_type": "code",
   "execution_count": 16,
   "metadata": {},
   "outputs": [
    {
     "data": {
      "text/html": [
       "<div>\n",
       "<style scoped>\n",
       "    .dataframe tbody tr th:only-of-type {\n",
       "        vertical-align: middle;\n",
       "    }\n",
       "\n",
       "    .dataframe tbody tr th {\n",
       "        vertical-align: top;\n",
       "    }\n",
       "\n",
       "    .dataframe thead th {\n",
       "        text-align: right;\n",
       "    }\n",
       "</style>\n",
       "<table border=\"1\" class=\"dataframe\">\n",
       "  <thead>\n",
       "    <tr style=\"text-align: right;\">\n",
       "      <th></th>\n",
       "      <th>state</th>\n",
       "      <th>county</th>\n",
       "      <th>urban</th>\n",
       "      <th>cancer_avg_cost</th>\n",
       "      <th>ha_avg_cost</th>\n",
       "      <th>avg_income</th>\n",
       "    </tr>\n",
       "  </thead>\n",
       "  <tbody>\n",
       "    <tr>\n",
       "      <th>0</th>\n",
       "      <td>AL</td>\n",
       "      <td>Autauga County</td>\n",
       "      <td>Urban</td>\n",
       "      <td>19293</td>\n",
       "      <td>40470</td>\n",
       "      <td>55843.0</td>\n",
       "    </tr>\n",
       "    <tr>\n",
       "      <th>1</th>\n",
       "      <td>AL</td>\n",
       "      <td>Baldwin County</td>\n",
       "      <td>Rural</td>\n",
       "      <td>17151</td>\n",
       "      <td>36615</td>\n",
       "      <td>62832.0</td>\n",
       "    </tr>\n",
       "  </tbody>\n",
       "</table>\n",
       "</div>"
      ],
      "text/plain": [
       "  state          county  urban  cancer_avg_cost  ha_avg_cost  avg_income\n",
       "0    AL  Autauga County  Urban            19293        40470     55843.0\n",
       "1    AL  Baldwin County  Rural            17151        36615     62832.0"
      ]
     },
     "execution_count": 16,
     "metadata": {},
     "output_type": "execute_result"
    }
   ],
   "source": [
    "combined_df = pd.merge(combined_df, county_incomes, on = ['state', 'county'], how = 'inner')\n",
    "combined_df.head(2)"
   ]
  },
  {
   "cell_type": "markdown",
   "metadata": {},
   "source": [
    "#### What is our target variable? What are the predictor variables?\n",
    "- The target is whether or not `cancer_avg_cost` is above or below the mean. \n",
    "- Predictors are `ha_avg_cost`, `urban`, and `avg_income`"
   ]
  },
  {
   "cell_type": "code",
   "execution_count": 17,
   "metadata": {},
   "outputs": [],
   "source": [
    "combined_df['ha_cost_ratio'] = combined_df['ha_avg_cost'] / combined_df['avg_income']\n",
    "combined_df['cancer_cost_ratio'] = combined_df['cancer_avg_cost'] / combined_df['avg_income']"
   ]
  },
  {
   "cell_type": "code",
   "execution_count": 18,
   "metadata": {},
   "outputs": [
    {
     "data": {
      "text/html": [
       "<div>\n",
       "<style scoped>\n",
       "    .dataframe tbody tr th:only-of-type {\n",
       "        vertical-align: middle;\n",
       "    }\n",
       "\n",
       "    .dataframe tbody tr th {\n",
       "        vertical-align: top;\n",
       "    }\n",
       "\n",
       "    .dataframe thead th {\n",
       "        text-align: right;\n",
       "    }\n",
       "</style>\n",
       "<table border=\"1\" class=\"dataframe\">\n",
       "  <thead>\n",
       "    <tr style=\"text-align: right;\">\n",
       "      <th></th>\n",
       "      <th>state</th>\n",
       "      <th>county</th>\n",
       "      <th>urban</th>\n",
       "      <th>cancer_avg_cost</th>\n",
       "      <th>ha_avg_cost</th>\n",
       "      <th>avg_income</th>\n",
       "      <th>ha_cost_ratio</th>\n",
       "      <th>cancer_cost_ratio</th>\n",
       "    </tr>\n",
       "  </thead>\n",
       "  <tbody>\n",
       "    <tr>\n",
       "      <th>0</th>\n",
       "      <td>AL</td>\n",
       "      <td>Autauga County</td>\n",
       "      <td>Urban</td>\n",
       "      <td>19293</td>\n",
       "      <td>40470</td>\n",
       "      <td>55843.0</td>\n",
       "      <td>0.724710</td>\n",
       "      <td>0.345486</td>\n",
       "    </tr>\n",
       "    <tr>\n",
       "      <th>1</th>\n",
       "      <td>AL</td>\n",
       "      <td>Baldwin County</td>\n",
       "      <td>Rural</td>\n",
       "      <td>17151</td>\n",
       "      <td>36615</td>\n",
       "      <td>62832.0</td>\n",
       "      <td>0.582744</td>\n",
       "      <td>0.272966</td>\n",
       "    </tr>\n",
       "    <tr>\n",
       "      <th>2</th>\n",
       "      <td>AL</td>\n",
       "      <td>Barbour County</td>\n",
       "      <td>Rural</td>\n",
       "      <td>19469</td>\n",
       "      <td>46509</td>\n",
       "      <td>40269.0</td>\n",
       "      <td>1.154958</td>\n",
       "      <td>0.483474</td>\n",
       "    </tr>\n",
       "    <tr>\n",
       "      <th>3</th>\n",
       "      <td>AL</td>\n",
       "      <td>Bibb County</td>\n",
       "      <td>Urban</td>\n",
       "      <td>17234</td>\n",
       "      <td>42949</td>\n",
       "      <td>47380.0</td>\n",
       "      <td>0.906480</td>\n",
       "      <td>0.363740</td>\n",
       "    </tr>\n",
       "    <tr>\n",
       "      <th>4</th>\n",
       "      <td>AL</td>\n",
       "      <td>Blount County</td>\n",
       "      <td>Urban</td>\n",
       "      <td>20317</td>\n",
       "      <td>50067</td>\n",
       "      <td>49535.0</td>\n",
       "      <td>1.010740</td>\n",
       "      <td>0.410154</td>\n",
       "    </tr>\n",
       "  </tbody>\n",
       "</table>\n",
       "</div>"
      ],
      "text/plain": [
       "  state          county  urban  cancer_avg_cost  ha_avg_cost  avg_income  \\\n",
       "0    AL  Autauga County  Urban            19293        40470     55843.0   \n",
       "1    AL  Baldwin County  Rural            17151        36615     62832.0   \n",
       "2    AL  Barbour County  Rural            19469        46509     40269.0   \n",
       "3    AL     Bibb County  Urban            17234        42949     47380.0   \n",
       "4    AL   Blount County  Urban            20317        50067     49535.0   \n",
       "\n",
       "   ha_cost_ratio  cancer_cost_ratio  \n",
       "0       0.724710           0.345486  \n",
       "1       0.582744           0.272966  \n",
       "2       1.154958           0.483474  \n",
       "3       0.906480           0.363740  \n",
       "4       1.010740           0.410154  "
      ]
     },
     "execution_count": 18,
     "metadata": {},
     "output_type": "execute_result"
    }
   ],
   "source": [
    "combined_df.head()"
   ]
  },
  {
   "cell_type": "code",
   "execution_count": 19,
   "metadata": {},
   "outputs": [],
   "source": [
    "avg_cancer_ratio = combined_df.cancer_cost_ratio.mean()\n",
    "avg_ha_ratio = combined_df.ha_cost_ratio.mean()"
   ]
  },
  {
   "cell_type": "code",
   "execution_count": 20,
   "metadata": {},
   "outputs": [],
   "source": [
    "combined_df['above_avg_cancer_ratio'] = combined_df['cancer_cost_ratio'] > avg_cancer_ratio\n",
    "combined_df['above_avg_ha_ratio'] = combined_df['ha_cost_ratio'] > avg_ha_ratio"
   ]
  },
  {
   "cell_type": "code",
   "execution_count": 21,
   "metadata": {},
   "outputs": [
    {
     "data": {
      "text/html": [
       "<div>\n",
       "<style scoped>\n",
       "    .dataframe tbody tr th:only-of-type {\n",
       "        vertical-align: middle;\n",
       "    }\n",
       "\n",
       "    .dataframe tbody tr th {\n",
       "        vertical-align: top;\n",
       "    }\n",
       "\n",
       "    .dataframe thead th {\n",
       "        text-align: right;\n",
       "    }\n",
       "</style>\n",
       "<table border=\"1\" class=\"dataframe\">\n",
       "  <thead>\n",
       "    <tr style=\"text-align: right;\">\n",
       "      <th></th>\n",
       "      <th>state</th>\n",
       "      <th>county</th>\n",
       "      <th>urban</th>\n",
       "      <th>cancer_avg_cost</th>\n",
       "      <th>ha_avg_cost</th>\n",
       "      <th>avg_income</th>\n",
       "      <th>ha_cost_ratio</th>\n",
       "      <th>cancer_cost_ratio</th>\n",
       "      <th>above_avg_cancer_ratio</th>\n",
       "      <th>above_avg_ha_ratio</th>\n",
       "    </tr>\n",
       "  </thead>\n",
       "  <tbody>\n",
       "    <tr>\n",
       "      <th>0</th>\n",
       "      <td>AL</td>\n",
       "      <td>Autauga County</td>\n",
       "      <td>Urban</td>\n",
       "      <td>19293</td>\n",
       "      <td>40470</td>\n",
       "      <td>55843.0</td>\n",
       "      <td>0.724710</td>\n",
       "      <td>0.345486</td>\n",
       "      <td>False</td>\n",
       "      <td>False</td>\n",
       "    </tr>\n",
       "    <tr>\n",
       "      <th>1</th>\n",
       "      <td>AL</td>\n",
       "      <td>Baldwin County</td>\n",
       "      <td>Rural</td>\n",
       "      <td>17151</td>\n",
       "      <td>36615</td>\n",
       "      <td>62832.0</td>\n",
       "      <td>0.582744</td>\n",
       "      <td>0.272966</td>\n",
       "      <td>False</td>\n",
       "      <td>False</td>\n",
       "    </tr>\n",
       "    <tr>\n",
       "      <th>2</th>\n",
       "      <td>AL</td>\n",
       "      <td>Barbour County</td>\n",
       "      <td>Rural</td>\n",
       "      <td>19469</td>\n",
       "      <td>46509</td>\n",
       "      <td>40269.0</td>\n",
       "      <td>1.154958</td>\n",
       "      <td>0.483474</td>\n",
       "      <td>True</td>\n",
       "      <td>True</td>\n",
       "    </tr>\n",
       "    <tr>\n",
       "      <th>3</th>\n",
       "      <td>AL</td>\n",
       "      <td>Bibb County</td>\n",
       "      <td>Urban</td>\n",
       "      <td>17234</td>\n",
       "      <td>42949</td>\n",
       "      <td>47380.0</td>\n",
       "      <td>0.906480</td>\n",
       "      <td>0.363740</td>\n",
       "      <td>False</td>\n",
       "      <td>False</td>\n",
       "    </tr>\n",
       "    <tr>\n",
       "      <th>4</th>\n",
       "      <td>AL</td>\n",
       "      <td>Blount County</td>\n",
       "      <td>Urban</td>\n",
       "      <td>20317</td>\n",
       "      <td>50067</td>\n",
       "      <td>49535.0</td>\n",
       "      <td>1.010740</td>\n",
       "      <td>0.410154</td>\n",
       "      <td>True</td>\n",
       "      <td>True</td>\n",
       "    </tr>\n",
       "  </tbody>\n",
       "</table>\n",
       "</div>"
      ],
      "text/plain": [
       "  state          county  urban  cancer_avg_cost  ha_avg_cost  avg_income  \\\n",
       "0    AL  Autauga County  Urban            19293        40470     55843.0   \n",
       "1    AL  Baldwin County  Rural            17151        36615     62832.0   \n",
       "2    AL  Barbour County  Rural            19469        46509     40269.0   \n",
       "3    AL     Bibb County  Urban            17234        42949     47380.0   \n",
       "4    AL   Blount County  Urban            20317        50067     49535.0   \n",
       "\n",
       "   ha_cost_ratio  cancer_cost_ratio  above_avg_cancer_ratio  \\\n",
       "0       0.724710           0.345486                   False   \n",
       "1       0.582744           0.272966                   False   \n",
       "2       1.154958           0.483474                    True   \n",
       "3       0.906480           0.363740                   False   \n",
       "4       1.010740           0.410154                    True   \n",
       "\n",
       "   above_avg_ha_ratio  \n",
       "0               False  \n",
       "1               False  \n",
       "2                True  \n",
       "3               False  \n",
       "4                True  "
      ]
     },
     "execution_count": 21,
     "metadata": {},
     "output_type": "execute_result"
    }
   ],
   "source": [
    "combined_df.head()"
   ]
  },
  {
   "cell_type": "code",
   "execution_count": 22,
   "metadata": {},
   "outputs": [
    {
     "data": {
      "text/html": [
       "<div>\n",
       "<style scoped>\n",
       "    .dataframe tbody tr th:only-of-type {\n",
       "        vertical-align: middle;\n",
       "    }\n",
       "\n",
       "    .dataframe tbody tr th {\n",
       "        vertical-align: top;\n",
       "    }\n",
       "\n",
       "    .dataframe thead th {\n",
       "        text-align: right;\n",
       "    }\n",
       "</style>\n",
       "<table border=\"1\" class=\"dataframe\">\n",
       "  <thead>\n",
       "    <tr style=\"text-align: right;\">\n",
       "      <th></th>\n",
       "      <th>state</th>\n",
       "      <th>county</th>\n",
       "      <th>cancer_avg_cost</th>\n",
       "      <th>ha_avg_cost</th>\n",
       "      <th>avg_income</th>\n",
       "      <th>ha_cost_ratio</th>\n",
       "      <th>cancer_cost_ratio</th>\n",
       "      <th>above_avg_cancer_ratio</th>\n",
       "      <th>above_avg_ha_ratio</th>\n",
       "      <th>urban_Urban</th>\n",
       "    </tr>\n",
       "  </thead>\n",
       "  <tbody>\n",
       "    <tr>\n",
       "      <th>0</th>\n",
       "      <td>AL</td>\n",
       "      <td>Autauga County</td>\n",
       "      <td>19293</td>\n",
       "      <td>40470</td>\n",
       "      <td>55843.0</td>\n",
       "      <td>0.724710</td>\n",
       "      <td>0.345486</td>\n",
       "      <td>False</td>\n",
       "      <td>False</td>\n",
       "      <td>1</td>\n",
       "    </tr>\n",
       "    <tr>\n",
       "      <th>1</th>\n",
       "      <td>AL</td>\n",
       "      <td>Baldwin County</td>\n",
       "      <td>17151</td>\n",
       "      <td>36615</td>\n",
       "      <td>62832.0</td>\n",
       "      <td>0.582744</td>\n",
       "      <td>0.272966</td>\n",
       "      <td>False</td>\n",
       "      <td>False</td>\n",
       "      <td>0</td>\n",
       "    </tr>\n",
       "    <tr>\n",
       "      <th>2</th>\n",
       "      <td>AL</td>\n",
       "      <td>Barbour County</td>\n",
       "      <td>19469</td>\n",
       "      <td>46509</td>\n",
       "      <td>40269.0</td>\n",
       "      <td>1.154958</td>\n",
       "      <td>0.483474</td>\n",
       "      <td>True</td>\n",
       "      <td>True</td>\n",
       "      <td>0</td>\n",
       "    </tr>\n",
       "  </tbody>\n",
       "</table>\n",
       "</div>"
      ],
      "text/plain": [
       "  state          county  cancer_avg_cost  ha_avg_cost  avg_income  \\\n",
       "0    AL  Autauga County            19293        40470     55843.0   \n",
       "1    AL  Baldwin County            17151        36615     62832.0   \n",
       "2    AL  Barbour County            19469        46509     40269.0   \n",
       "\n",
       "   ha_cost_ratio  cancer_cost_ratio  above_avg_cancer_ratio  \\\n",
       "0       0.724710           0.345486                   False   \n",
       "1       0.582744           0.272966                   False   \n",
       "2       1.154958           0.483474                    True   \n",
       "\n",
       "   above_avg_ha_ratio  urban_Urban  \n",
       "0               False            1  \n",
       "1               False            0  \n",
       "2                True            0  "
      ]
     },
     "execution_count": 22,
     "metadata": {},
     "output_type": "execute_result"
    }
   ],
   "source": [
    "combined_df = pd.get_dummies(combined_df, columns = ['urban'], drop_first = True)\n",
    "combined_df.head(3)"
   ]
  },
  {
   "cell_type": "code",
   "execution_count": 23,
   "metadata": {},
   "outputs": [],
   "source": [
    "X = combined_df[['urban_Urban']]\n",
    "y = combined_df.above_avg_cancer_ratio"
   ]
  },
  {
   "cell_type": "code",
   "execution_count": 24,
   "metadata": {},
   "outputs": [],
   "source": [
    "X_train, X_test, y_train, y_test = train_test_split(X, y, random_state = 2020)"
   ]
  },
  {
   "cell_type": "code",
   "execution_count": 25,
   "metadata": {},
   "outputs": [
    {
     "data": {
      "text/plain": [
       "LogisticRegression()"
      ]
     },
     "execution_count": 25,
     "metadata": {},
     "output_type": "execute_result"
    }
   ],
   "source": [
    "logistic_model = LogisticRegression()\n",
    "logistic_model.fit(X_train, y_train)"
   ]
  },
  {
   "cell_type": "code",
   "execution_count": 26,
   "metadata": {},
   "outputs": [
    {
     "data": {
      "image/png": "[encoded data removed]",
      "text/plain": [
       "<Figure size 504x360 with 1 Axes>"
      ]
     },
     "metadata": {
      "needs_background": "light"
     },
     "output_type": "display_data"
    }
   ],
   "source": [
    "fig, ax = plt.subplots(figsize = (7,5))\n",
    "sns.barplot(x = logistic_model.coef_[0], y = list(X.columns), ax = ax, edgecolor = 'black')\n",
    "plt.title('Logistic Regression Coefficients');"
   ]
  },
  {
   "cell_type": "code",
   "execution_count": 27,
   "metadata": {},
   "outputs": [
    {
     "data": {
      "text/plain": [
       "False    0.519084\n",
       "True     0.480916\n",
       "Name: above_avg_cancer_ratio, dtype: float64"
      ]
     },
     "execution_count": 27,
     "metadata": {},
     "output_type": "execute_result"
    }
   ],
   "source": [
    "y_test.value_counts(normalize = True)"
   ]
  },
  {
   "cell_type": "code",
   "execution_count": 28,
   "metadata": {},
   "outputs": [
    {
     "name": "stdout",
     "output_type": "stream",
     "text": [
      "0.6687022900763359\n"
     ]
    }
   ],
   "source": [
    "y_pred = logistic_model.predict(X_test)\n",
    "print(metrics.accuracy_score(y_test, y_pred))"
   ]
  },
  {
   "cell_type": "markdown",
   "metadata": {},
   "source": [
    "#### Our model is a bit better than the naive model"
   ]
  },
  {
   "cell_type": "code",
   "execution_count": 29,
   "metadata": {},
   "outputs": [
    {
     "name": "stdout",
     "output_type": "stream",
     "text": [
      "              precision    recall  f1-score   support\n",
      "\n",
      "       False       0.73      0.57      0.64       340\n",
      "        True       0.63      0.77      0.69       315\n",
      "\n",
      "    accuracy                           0.67       655\n",
      "   macro avg       0.68      0.67      0.67       655\n",
      "weighted avg       0.68      0.67      0.67       655\n",
      "\n"
     ]
    }
   ],
   "source": [
    "print(metrics.classification_report(y_test, y_pred))"
   ]
  },
  {
   "cell_type": "markdown",
   "metadata": {},
   "source": [
    "#### Let's check AUC"
   ]
  },
  {
   "cell_type": "code",
   "execution_count": 30,
   "metadata": {},
   "outputs": [
    {
     "name": "stdout",
     "output_type": "stream",
     "text": [
      "0.6725957049486462\n"
     ]
    }
   ],
   "source": [
    "y_pred_prob = logistic_model.predict_proba(X_test)[:,1]\n",
    "\n",
    "print(metrics.roc_auc_score(y_test, y_pred_prob))"
   ]
  },
  {
   "cell_type": "code",
   "execution_count": 31,
   "metadata": {},
   "outputs": [
    {
     "data": {
      "image/png": "[encoded data removed]",
      "text/plain": [
       "<Figure size 432x288 with 1 Axes>"
      ]
     },
     "metadata": {
      "needs_background": "light"
     },
     "output_type": "display_data"
    }
   ],
   "source": [
    "fp_rate, tp_rate, thresholds = metrics.roc_curve(y_test, y_pred_prob)\n",
    "\n",
    "plt.plot(fp_rate, tp_rate)\n",
    "plt.xlim([0.0, 1.0])\n",
    "plt.ylim([0.0, 1.0])\n",
    "plt.title('ROC curve for Cancer Cost Above Average classifier')\n",
    "plt.xlabel('False Positive Rate (1 - Specificity)')\n",
    "plt.ylabel('True Positive Rate (Sensitivity)')\n",
    "plt.grid(True)"
   ]
  },
  {
   "cell_type": "code",
   "execution_count": 32,
   "metadata": {},
   "outputs": [],
   "source": [
    "geographic_info = pd.read_csv('../data/geographic_profile.csv')"
   ]
  },
  {
   "cell_type": "code",
   "execution_count": 33,
   "metadata": {},
   "outputs": [
    {
     "data": {
      "text/html": [
       "<div>\n",
       "<style scoped>\n",
       "    .dataframe tbody tr th:only-of-type {\n",
       "        vertical-align: middle;\n",
       "    }\n",
       "\n",
       "    .dataframe tbody tr th {\n",
       "        vertical-align: top;\n",
       "    }\n",
       "\n",
       "    .dataframe thead th {\n",
       "        text-align: right;\n",
       "    }\n",
       "</style>\n",
       "<table border=\"1\" class=\"dataframe\">\n",
       "  <thead>\n",
       "    <tr style=\"text-align: right;\">\n",
       "      <th></th>\n",
       "      <th>state</th>\n",
       "      <th>county</th>\n",
       "      <th>Median Household Income (5y Average)</th>\n",
       "      <th>Median Household Income for +7-person Households (5y Avg.)</th>\n",
       "      <th>Median Household Income for 1-person Households (5y Avg.)</th>\n",
       "      <th>Median Household Income for 2-person Households (5y Avg.)</th>\n",
       "      <th>Median Household Income for 3-person Households (5y Avg.)</th>\n",
       "      <th>Median Household Income for 4-person Households (5y Avg.)</th>\n",
       "      <th>Median Household Income for 5-person Households (5y Avg.)</th>\n",
       "      <th>Median Household Income for 6-person Households (5y Avg.)</th>\n",
       "      <th>...</th>\n",
       "      <th>Percent of 3 Person Households with 3 Workers (5y Avg.)</th>\n",
       "      <th>Percent of 3 Person Households with No Workers (5y Avg.)</th>\n",
       "      <th>Percent of Senior Population Below Federal Poverty Level (1y Avg.)</th>\n",
       "      <th>Percent of Senior Population Below Federal Poverty Level (5y Avg.)</th>\n",
       "      <th>Percentage of Total Housing Units that are Vacant (1y Avg.)</th>\n",
       "      <th>Percentage of Total Housing Units that are Vacant (5y Avg.)</th>\n",
       "      <th>Senior Unemployment Rate (1y Avg.)</th>\n",
       "      <th>Senior Unemployment Rate (5y Avg.)</th>\n",
       "      <th>Unemployment Rate (1y Avg.)</th>\n",
       "      <th>Unemployment Rate (5y Avg.)</th>\n",
       "    </tr>\n",
       "  </thead>\n",
       "  <tbody>\n",
       "    <tr>\n",
       "      <th>0</th>\n",
       "      <td>Alabama</td>\n",
       "      <td>Autauga County</td>\n",
       "      <td>53099.0</td>\n",
       "      <td>104659.0</td>\n",
       "      <td>26834.0</td>\n",
       "      <td>58452.0</td>\n",
       "      <td>76406.0</td>\n",
       "      <td>74429.0</td>\n",
       "      <td>73017.0</td>\n",
       "      <td>81500.0</td>\n",
       "      <td>...</td>\n",
       "      <td>0.101183</td>\n",
       "      <td>0.106110</td>\n",
       "      <td>NaN</td>\n",
       "      <td>0.061893</td>\n",
       "      <td>NaN</td>\n",
       "      <td>0.083869</td>\n",
       "      <td>NaN</td>\n",
       "      <td>0.079755</td>\n",
       "      <td>NaN</td>\n",
       "      <td>0.055252</td>\n",
       "    </tr>\n",
       "    <tr>\n",
       "      <th>1</th>\n",
       "      <td>Alabama</td>\n",
       "      <td>Baldwin County</td>\n",
       "      <td>51365.0</td>\n",
       "      <td>86250.0</td>\n",
       "      <td>26010.0</td>\n",
       "      <td>59570.0</td>\n",
       "      <td>68369.0</td>\n",
       "      <td>79153.0</td>\n",
       "      <td>69484.0</td>\n",
       "      <td>67693.0</td>\n",
       "      <td>...</td>\n",
       "      <td>0.124101</td>\n",
       "      <td>0.129932</td>\n",
       "      <td>0.077699</td>\n",
       "      <td>0.069984</td>\n",
       "      <td>0.293833</td>\n",
       "      <td>0.274180</td>\n",
       "      <td>0.032243</td>\n",
       "      <td>0.037965</td>\n",
       "      <td>0.035886</td>\n",
       "      <td>0.062713</td>\n",
       "    </tr>\n",
       "    <tr>\n",
       "      <th>2</th>\n",
       "      <td>Alabama</td>\n",
       "      <td>Barbour County</td>\n",
       "      <td>33956.0</td>\n",
       "      <td>NaN</td>\n",
       "      <td>16450.0</td>\n",
       "      <td>42631.0</td>\n",
       "      <td>42429.0</td>\n",
       "      <td>44563.0</td>\n",
       "      <td>46563.0</td>\n",
       "      <td>48250.0</td>\n",
       "      <td>...</td>\n",
       "      <td>0.093651</td>\n",
       "      <td>0.226190</td>\n",
       "      <td>NaN</td>\n",
       "      <td>0.162366</td>\n",
       "      <td>NaN</td>\n",
       "      <td>0.221912</td>\n",
       "      <td>NaN</td>\n",
       "      <td>0.083538</td>\n",
       "      <td>NaN</td>\n",
       "      <td>0.128247</td>\n",
       "    </tr>\n",
       "    <tr>\n",
       "      <th>3</th>\n",
       "      <td>Alabama</td>\n",
       "      <td>Bibb County</td>\n",
       "      <td>39776.0</td>\n",
       "      <td>111477.0</td>\n",
       "      <td>19127.0</td>\n",
       "      <td>41183.0</td>\n",
       "      <td>43520.0</td>\n",
       "      <td>51760.0</td>\n",
       "      <td>68375.0</td>\n",
       "      <td>76579.0</td>\n",
       "      <td>...</td>\n",
       "      <td>0.110305</td>\n",
       "      <td>0.206096</td>\n",
       "      <td>NaN</td>\n",
       "      <td>0.106445</td>\n",
       "      <td>NaN</td>\n",
       "      <td>0.214445</td>\n",
       "      <td>NaN</td>\n",
       "      <td>0.036667</td>\n",
       "      <td>NaN</td>\n",
       "      <td>0.071429</td>\n",
       "    </tr>\n",
       "    <tr>\n",
       "      <th>4</th>\n",
       "      <td>Alabama</td>\n",
       "      <td>Blount County</td>\n",
       "      <td>46212.0</td>\n",
       "      <td>50723.0</td>\n",
       "      <td>22171.0</td>\n",
       "      <td>50601.0</td>\n",
       "      <td>60406.0</td>\n",
       "      <td>64705.0</td>\n",
       "      <td>54390.0</td>\n",
       "      <td>48913.0</td>\n",
       "      <td>...</td>\n",
       "      <td>0.043669</td>\n",
       "      <td>0.186762</td>\n",
       "      <td>NaN</td>\n",
       "      <td>0.098941</td>\n",
       "      <td>NaN</td>\n",
       "      <td>0.132788</td>\n",
       "      <td>NaN</td>\n",
       "      <td>0.049601</td>\n",
       "      <td>NaN</td>\n",
       "      <td>0.059515</td>\n",
       "    </tr>\n",
       "    <tr>\n",
       "      <th>...</th>\n",
       "      <td>...</td>\n",
       "      <td>...</td>\n",
       "      <td>...</td>\n",
       "      <td>...</td>\n",
       "      <td>...</td>\n",
       "      <td>...</td>\n",
       "      <td>...</td>\n",
       "      <td>...</td>\n",
       "      <td>...</td>\n",
       "      <td>...</td>\n",
       "      <td>...</td>\n",
       "      <td>...</td>\n",
       "      <td>...</td>\n",
       "      <td>...</td>\n",
       "      <td>...</td>\n",
       "      <td>...</td>\n",
       "      <td>...</td>\n",
       "      <td>...</td>\n",
       "      <td>...</td>\n",
       "      <td>...</td>\n",
       "      <td>...</td>\n",
       "    </tr>\n",
       "    <tr>\n",
       "      <th>3215</th>\n",
       "      <td>Wyoming</td>\n",
       "      <td>Sweetwater County</td>\n",
       "      <td>68233.0</td>\n",
       "      <td>94211.0</td>\n",
       "      <td>36884.0</td>\n",
       "      <td>77074.0</td>\n",
       "      <td>74030.0</td>\n",
       "      <td>89070.0</td>\n",
       "      <td>90544.0</td>\n",
       "      <td>103275.0</td>\n",
       "      <td>...</td>\n",
       "      <td>0.136929</td>\n",
       "      <td>0.053565</td>\n",
       "      <td>NaN</td>\n",
       "      <td>0.089024</td>\n",
       "      <td>NaN</td>\n",
       "      <td>0.125851</td>\n",
       "      <td>NaN</td>\n",
       "      <td>0.031863</td>\n",
       "      <td>NaN</td>\n",
       "      <td>0.050685</td>\n",
       "    </tr>\n",
       "    <tr>\n",
       "      <th>3216</th>\n",
       "      <td>Wyoming</td>\n",
       "      <td>Teton County</td>\n",
       "      <td>75594.0</td>\n",
       "      <td>NaN</td>\n",
       "      <td>40613.0</td>\n",
       "      <td>86401.0</td>\n",
       "      <td>104185.0</td>\n",
       "      <td>106379.0</td>\n",
       "      <td>102321.0</td>\n",
       "      <td>78681.0</td>\n",
       "      <td>...</td>\n",
       "      <td>0.285209</td>\n",
       "      <td>0.000000</td>\n",
       "      <td>NaN</td>\n",
       "      <td>0.046450</td>\n",
       "      <td>NaN</td>\n",
       "      <td>0.344267</td>\n",
       "      <td>NaN</td>\n",
       "      <td>0.027027</td>\n",
       "      <td>NaN</td>\n",
       "      <td>0.021234</td>\n",
       "    </tr>\n",
       "    <tr>\n",
       "      <th>3217</th>\n",
       "      <td>Wyoming</td>\n",
       "      <td>Uinta County</td>\n",
       "      <td>53323.0</td>\n",
       "      <td>78750.0</td>\n",
       "      <td>26641.0</td>\n",
       "      <td>59345.0</td>\n",
       "      <td>56186.0</td>\n",
       "      <td>79000.0</td>\n",
       "      <td>55822.0</td>\n",
       "      <td>125663.0</td>\n",
       "      <td>...</td>\n",
       "      <td>0.054170</td>\n",
       "      <td>0.075666</td>\n",
       "      <td>NaN</td>\n",
       "      <td>0.097962</td>\n",
       "      <td>NaN</td>\n",
       "      <td>0.150205</td>\n",
       "      <td>NaN</td>\n",
       "      <td>0.101167</td>\n",
       "      <td>NaN</td>\n",
       "      <td>0.063908</td>\n",
       "    </tr>\n",
       "    <tr>\n",
       "      <th>3218</th>\n",
       "      <td>Wyoming</td>\n",
       "      <td>Washakie County</td>\n",
       "      <td>46212.0</td>\n",
       "      <td>63250.0</td>\n",
       "      <td>25625.0</td>\n",
       "      <td>61114.0</td>\n",
       "      <td>66894.0</td>\n",
       "      <td>61667.0</td>\n",
       "      <td>42500.0</td>\n",
       "      <td>NaN</td>\n",
       "      <td>...</td>\n",
       "      <td>0.153680</td>\n",
       "      <td>0.064935</td>\n",
       "      <td>NaN</td>\n",
       "      <td>0.044981</td>\n",
       "      <td>NaN</td>\n",
       "      <td>0.081868</td>\n",
       "      <td>NaN</td>\n",
       "      <td>0.041262</td>\n",
       "      <td>NaN</td>\n",
       "      <td>0.074419</td>\n",
       "    </tr>\n",
       "    <tr>\n",
       "      <th>3219</th>\n",
       "      <td>Wyoming</td>\n",
       "      <td>Weston County</td>\n",
       "      <td>55640.0</td>\n",
       "      <td>NaN</td>\n",
       "      <td>29583.0</td>\n",
       "      <td>76577.0</td>\n",
       "      <td>83125.0</td>\n",
       "      <td>75268.0</td>\n",
       "      <td>90030.0</td>\n",
       "      <td>NaN</td>\n",
       "      <td>...</td>\n",
       "      <td>0.189369</td>\n",
       "      <td>0.053156</td>\n",
       "      <td>NaN</td>\n",
       "      <td>0.049235</td>\n",
       "      <td>NaN</td>\n",
       "      <td>0.104059</td>\n",
       "      <td>NaN</td>\n",
       "      <td>0.000000</td>\n",
       "      <td>NaN</td>\n",
       "      <td>0.036109</td>\n",
       "    </tr>\n",
       "  </tbody>\n",
       "</table>\n",
       "<p>3220 rows × 33 columns</p>\n",
       "</div>"
      ],
      "text/plain": [
       "         state             county  Median Household Income (5y Average)  \\\n",
       "0      Alabama     Autauga County                               53099.0   \n",
       "1      Alabama     Baldwin County                               51365.0   \n",
       "2      Alabama     Barbour County                               33956.0   \n",
       "3      Alabama        Bibb County                               39776.0   \n",
       "4      Alabama      Blount County                               46212.0   \n",
       "...        ...                ...                                   ...   \n",
       "3215   Wyoming  Sweetwater County                               68233.0   \n",
       "3216   Wyoming       Teton County                               75594.0   \n",
       "3217   Wyoming       Uinta County                               53323.0   \n",
       "3218   Wyoming    Washakie County                               46212.0   \n",
       "3219   Wyoming      Weston County                               55640.0   \n",
       "\n",
       "      Median Household Income for +7-person Households (5y Avg.)  \\\n",
       "0                                              104659.0            \n",
       "1                                               86250.0            \n",
       "2                                                   NaN            \n",
       "3                                              111477.0            \n",
       "4                                               50723.0            \n",
       "...                                                 ...            \n",
       "3215                                            94211.0            \n",
       "3216                                                NaN            \n",
       "3217                                            78750.0            \n",
       "3218                                            63250.0            \n",
       "3219                                                NaN            \n",
       "\n",
       "      Median Household Income for 1-person Households (5y Avg.)  \\\n",
       "0                                               26834.0           \n",
       "1                                               26010.0           \n",
       "2                                               16450.0           \n",
       "3                                               19127.0           \n",
       "4                                               22171.0           \n",
       "...                                                 ...           \n",
       "3215                                            36884.0           \n",
       "3216                                            40613.0           \n",
       "3217                                            26641.0           \n",
       "3218                                            25625.0           \n",
       "3219                                            29583.0           \n",
       "\n",
       "      Median Household Income for 2-person Households (5y Avg.)  \\\n",
       "0                                               58452.0           \n",
       "1                                               59570.0           \n",
       "2                                               42631.0           \n",
       "3                                               41183.0           \n",
       "4                                               50601.0           \n",
       "...                                                 ...           \n",
       "3215                                            77074.0           \n",
       "3216                                            86401.0           \n",
       "3217                                            59345.0           \n",
       "3218                                            61114.0           \n",
       "3219                                            76577.0           \n",
       "\n",
       "      Median Household Income for 3-person Households (5y Avg.)  \\\n",
       "0                                               76406.0           \n",
       "1                                               68369.0           \n",
       "2                                               42429.0           \n",
       "3                                               43520.0           \n",
       "4                                               60406.0           \n",
       "...                                                 ...           \n",
       "3215                                            74030.0           \n",
       "3216                                           104185.0           \n",
       "3217                                            56186.0           \n",
       "3218                                            66894.0           \n",
       "3219                                            83125.0           \n",
       "\n",
       "      Median Household Income for 4-person Households (5y Avg.)  \\\n",
       "0                                               74429.0           \n",
       "1                                               79153.0           \n",
       "2                                               44563.0           \n",
       "3                                               51760.0           \n",
       "4                                               64705.0           \n",
       "...                                                 ...           \n",
       "3215                                            89070.0           \n",
       "3216                                           106379.0           \n",
       "3217                                            79000.0           \n",
       "3218                                            61667.0           \n",
       "3219                                            75268.0           \n",
       "\n",
       "      Median Household Income for 5-person Households (5y Avg.)  \\\n",
       "0                                               73017.0           \n",
       "1                                               69484.0           \n",
       "2                                               46563.0           \n",
       "3                                               68375.0           \n",
       "4                                               54390.0           \n",
       "...                                                 ...           \n",
       "3215                                            90544.0           \n",
       "3216                                           102321.0           \n",
       "3217                                            55822.0           \n",
       "3218                                            42500.0           \n",
       "3219                                            90030.0           \n",
       "\n",
       "      Median Household Income for 6-person Households (5y Avg.)  ...  \\\n",
       "0                                               81500.0          ...   \n",
       "1                                               67693.0          ...   \n",
       "2                                               48250.0          ...   \n",
       "3                                               76579.0          ...   \n",
       "4                                               48913.0          ...   \n",
       "...                                                 ...          ...   \n",
       "3215                                           103275.0          ...   \n",
       "3216                                            78681.0          ...   \n",
       "3217                                           125663.0          ...   \n",
       "3218                                                NaN          ...   \n",
       "3219                                                NaN          ...   \n",
       "\n",
       "      Percent of 3 Person Households with 3 Workers (5y Avg.)  \\\n",
       "0                                              0.101183         \n",
       "1                                              0.124101         \n",
       "2                                              0.093651         \n",
       "3                                              0.110305         \n",
       "4                                              0.043669         \n",
       "...                                                 ...         \n",
       "3215                                           0.136929         \n",
       "3216                                           0.285209         \n",
       "3217                                           0.054170         \n",
       "3218                                           0.153680         \n",
       "3219                                           0.189369         \n",
       "\n",
       "      Percent of 3 Person Households with No Workers (5y Avg.)  \\\n",
       "0                                              0.106110          \n",
       "1                                              0.129932          \n",
       "2                                              0.226190          \n",
       "3                                              0.206096          \n",
       "4                                              0.186762          \n",
       "...                                                 ...          \n",
       "3215                                           0.053565          \n",
       "3216                                           0.000000          \n",
       "3217                                           0.075666          \n",
       "3218                                           0.064935          \n",
       "3219                                           0.053156          \n",
       "\n",
       "      Percent of Senior Population Below Federal Poverty Level (1y Avg.)  \\\n",
       "0                                                   NaN                    \n",
       "1                                              0.077699                    \n",
       "2                                                   NaN                    \n",
       "3                                                   NaN                    \n",
       "4                                                   NaN                    \n",
       "...                                                 ...                    \n",
       "3215                                                NaN                    \n",
       "3216                                                NaN                    \n",
       "3217                                                NaN                    \n",
       "3218                                                NaN                    \n",
       "3219                                                NaN                    \n",
       "\n",
       "      Percent of Senior Population Below Federal Poverty Level (5y Avg.)  \\\n",
       "0                                              0.061893                    \n",
       "1                                              0.069984                    \n",
       "2                                              0.162366                    \n",
       "3                                              0.106445                    \n",
       "4                                              0.098941                    \n",
       "...                                                 ...                    \n",
       "3215                                           0.089024                    \n",
       "3216                                           0.046450                    \n",
       "3217                                           0.097962                    \n",
       "3218                                           0.044981                    \n",
       "3219                                           0.049235                    \n",
       "\n",
       "      Percentage of Total Housing Units that are Vacant (1y Avg.)  \\\n",
       "0                                                   NaN             \n",
       "1                                              0.293833             \n",
       "2                                                   NaN             \n",
       "3                                                   NaN             \n",
       "4                                                   NaN             \n",
       "...                                                 ...             \n",
       "3215                                                NaN             \n",
       "3216                                                NaN             \n",
       "3217                                                NaN             \n",
       "3218                                                NaN             \n",
       "3219                                                NaN             \n",
       "\n",
       "      Percentage of Total Housing Units that are Vacant (5y Avg.)  \\\n",
       "0                                              0.083869             \n",
       "1                                              0.274180             \n",
       "2                                              0.221912             \n",
       "3                                              0.214445             \n",
       "4                                              0.132788             \n",
       "...                                                 ...             \n",
       "3215                                           0.125851             \n",
       "3216                                           0.344267             \n",
       "3217                                           0.150205             \n",
       "3218                                           0.081868             \n",
       "3219                                           0.104059             \n",
       "\n",
       "      Senior Unemployment Rate (1y Avg.)  Senior Unemployment Rate (5y Avg.)  \\\n",
       "0                                    NaN                            0.079755   \n",
       "1                               0.032243                            0.037965   \n",
       "2                                    NaN                            0.083538   \n",
       "3                                    NaN                            0.036667   \n",
       "4                                    NaN                            0.049601   \n",
       "...                                  ...                                 ...   \n",
       "3215                                 NaN                            0.031863   \n",
       "3216                                 NaN                            0.027027   \n",
       "3217                                 NaN                            0.101167   \n",
       "3218                                 NaN                            0.041262   \n",
       "3219                                 NaN                            0.000000   \n",
       "\n",
       "      Unemployment Rate (1y Avg.)  Unemployment Rate (5y Avg.)  \n",
       "0                             NaN                     0.055252  \n",
       "1                        0.035886                     0.062713  \n",
       "2                             NaN                     0.128247  \n",
       "3                             NaN                     0.071429  \n",
       "4                             NaN                     0.059515  \n",
       "...                           ...                          ...  \n",
       "3215                          NaN                     0.050685  \n",
       "3216                          NaN                     0.021234  \n",
       "3217                          NaN                     0.063908  \n",
       "3218                          NaN                     0.074419  \n",
       "3219                          NaN                     0.036109  \n",
       "\n",
       "[3220 rows x 33 columns]"
      ]
     },
     "execution_count": 33,
     "metadata": {},
     "output_type": "execute_result"
    }
   ],
   "source": [
    "geographic_info"
   ]
  },
  {
   "cell_type": "code",
   "execution_count": 34,
   "metadata": {},
   "outputs": [],
   "source": [
    "geographic_info['state'] = geographic_info.state.str.upper().str.strip().map(state_abbrev.set_index('name')['abbrev'].to_dict())"
   ]
  },
  {
   "cell_type": "code",
   "execution_count": 35,
   "metadata": {},
   "outputs": [
    {
     "data": {
      "text/plain": [
       "state                                                                    0\n",
       "county                                                                   0\n",
       "Median Household Income (5y Average)                                     0\n",
       "Median Household Income for +7-person Households (5y Avg.)             777\n",
       "Median Household Income for 1-person Households (5y Avg.)                0\n",
       "Median Household Income for 2-person Households (5y Avg.)                1\n",
       "Median Household Income for 3-person Households (5y Avg.)               19\n",
       "Median Household Income for 4-person Households (5y Avg.)               39\n",
       "Median Household Income for 5-person Households (5y Avg.)              125\n",
       "Median Household Income for 6-person Households (5y Avg.)              455\n",
       "Percent Below Federal Poverty Level (1y Avg.)                         2389\n",
       "Percent Below Federal Poverty Level (5y Avg.)                            0\n",
       "Percent of +4 Person Households with +3 Workers (5y Avg.)                0\n",
       "Percent of +4 Person Households with 1 Worker (5y Avg.)                  0\n",
       "Percent of +4 Person Households with 2 Workers (5y Avg.)                 0\n",
       "Percent of +4 Person Households with No Workers (5y Avg.)                0\n",
       "Percent of 1 Person Households with 1 Worker (5y Avg.)                   0\n",
       "Percent of 1 Person Households with No Workers (5y Avg.)                 0\n",
       "Percent of 2 Person Households with 1 Worker (5y Avg.)                   0\n",
       "Percent of 2 Person Households with 2 Workers (5y Avg.)                  0\n",
       "Percent of 2 Person Households with No Workers (5y Avg.)                 0\n",
       "Percent of 3 Person Households with 1 Worker (5y Avg.)                   1\n",
       "Percent of 3 Person Households with 2 Workers (5y Avg.)                  1\n",
       "Percent of 3 Person Households with 3 Workers (5y Avg.)                  1\n",
       "Percent of 3 Person Households with No Workers (5y Avg.)                 1\n",
       "Percent of Senior Population Below Federal Poverty Level (1y Avg.)    2389\n",
       "Percent of Senior Population Below Federal Poverty Level (5y Avg.)       0\n",
       "Percentage of Total Housing Units that are Vacant (1y Avg.)           2442\n",
       "Percentage of Total Housing Units that are Vacant (5y Avg.)              0\n",
       "Senior Unemployment Rate (1y Avg.)                                    2498\n",
       "Senior Unemployment Rate (5y Avg.)                                       1\n",
       "Unemployment Rate (1y Avg.)                                           2498\n",
       "Unemployment Rate (5y Avg.)                                              0\n",
       "dtype: int64"
      ]
     },
     "execution_count": 35,
     "metadata": {},
     "output_type": "execute_result"
    }
   ],
   "source": [
    "geographic_info.isna().sum()"
   ]
  },
  {
   "cell_type": "code",
   "execution_count": 36,
   "metadata": {},
   "outputs": [],
   "source": [
    "geographic_info = geographic_info[['state', 'county', 'Percent Below Federal Poverty Level (5y Avg.)',\n",
    "                 'Percent of Senior Population Below Federal Poverty Level (5y Avg.)', 'Unemployment Rate (5y Avg.)']]"
   ]
  },
  {
   "cell_type": "code",
   "execution_count": 37,
   "metadata": {},
   "outputs": [],
   "source": [
    "combined_df = combined_df[['state', 'county', 'above_avg_cancer_ratio', 'above_avg_ha_ratio', 'urban_Urban']]"
   ]
  },
  {
   "cell_type": "code",
   "execution_count": 38,
   "metadata": {},
   "outputs": [],
   "source": [
    "combined_df = pd.merge(left = combined_df, right = geographic_info)"
   ]
  },
  {
   "cell_type": "markdown",
   "metadata": {},
   "source": [
    "# Adding in the geographic profile data"
   ]
  },
  {
   "cell_type": "code",
   "execution_count": 39,
   "metadata": {},
   "outputs": [],
   "source": [
    "X = combined_df.drop(columns = ['state', 'county', 'above_avg_cancer_ratio', 'above_avg_ha_ratio'])\n",
    "y = combined_df.above_avg_cancer_ratio"
   ]
  },
  {
   "cell_type": "code",
   "execution_count": 40,
   "metadata": {},
   "outputs": [],
   "source": [
    "X_train, X_test, y_train, y_test = train_test_split(X, y, random_state = 2020)"
   ]
  },
  {
   "cell_type": "code",
   "execution_count": 41,
   "metadata": {},
   "outputs": [
    {
     "data": {
      "text/plain": [
       "LogisticRegression()"
      ]
     },
     "execution_count": 41,
     "metadata": {},
     "output_type": "execute_result"
    }
   ],
   "source": [
    "logistic_model = LogisticRegression()\n",
    "logistic_model.fit(X_train, y_train)"
   ]
  },
  {
   "cell_type": "code",
   "execution_count": 42,
   "metadata": {},
   "outputs": [
    {
     "data": {
      "image/png": "[encoded data removed]",
      "text/plain": [
       "<Figure size 504x360 with 1 Axes>"
      ]
     },
     "metadata": {
      "needs_background": "light"
     },
     "output_type": "display_data"
    }
   ],
   "source": [
    "fig, ax = plt.subplots(figsize = (7,5))\n",
    "sns.barplot(x = logistic_model.coef_[0], y = list(X.columns), ax = ax, edgecolor = 'black')\n",
    "plt.title('Logistic Regression Coefficients');"
   ]
  },
  {
   "cell_type": "code",
   "execution_count": 43,
   "metadata": {},
   "outputs": [
    {
     "name": "stdout",
     "output_type": "stream",
     "text": [
      "0.7404580152671756\n"
     ]
    }
   ],
   "source": [
    "y_pred = logistic_model.predict(X_test)\n",
    "print(metrics.accuracy_score(y_test, y_pred))"
   ]
  },
  {
   "cell_type": "code",
   "execution_count": 44,
   "metadata": {},
   "outputs": [
    {
     "data": {
      "image/png": "[encoded data removed]",
      "text/plain": [
       "<Figure size 432x432 with 1 Axes>"
      ]
     },
     "metadata": {
      "needs_background": "light"
     },
     "output_type": "display_data"
    }
   ],
   "source": [
    "plot_confusion_matrix(y_test, y_pred, labels = ['below', 'above'], metric = 'accuracy')"
   ]
  },
  {
   "cell_type": "code",
   "execution_count": 45,
   "metadata": {},
   "outputs": [
    {
     "name": "stdout",
     "output_type": "stream",
     "text": [
      "0.8273156882156266\n"
     ]
    }
   ],
   "source": [
    "y_pred_prob = logistic_model.predict_proba(X_test)[:,1]\n",
    "\n",
    "print(metrics.roc_auc_score(y_test, y_pred_prob))"
   ]
  },
  {
   "cell_type": "code",
   "execution_count": 46,
   "metadata": {},
   "outputs": [
    {
     "data": {
      "image/png": "[encoded data removed]",
      "text/plain": [
       "<Figure size 432x288 with 1 Axes>"
      ]
     },
     "metadata": {
      "needs_background": "light"
     },
     "output_type": "display_data"
    }
   ],
   "source": [
    "fp_rate, tp_rate, thresholds = metrics.roc_curve(y_test, y_pred_prob)\n",
    "\n",
    "plt.plot(fp_rate, tp_rate)\n",
    "plt.xlim([0.0, 1.0])\n",
    "plt.ylim([0.0, 1.0])\n",
    "plt.title('ROC curve for Cancer Cost Above Average classifier')\n",
    "plt.xlabel('False Positive Rate (1 - Specificity)')\n",
    "plt.ylabel('True Positive Rate (Sensitivity)')\n",
    "plt.grid(True)"
   ]
  },
  {
   "cell_type": "code",
   "execution_count": 51,
   "metadata": {},
   "outputs": [],
   "source": [
    "rf_model = RandomForestClassifier().fit(X_train, y_train)"
   ]
  },
  {
   "cell_type": "code",
   "execution_count": 52,
   "metadata": {},
   "outputs": [
    {
     "name": "stdout",
     "output_type": "stream",
     "text": [
      "0.7145038167938931\n"
     ]
    }
   ],
   "source": [
    "y_pred = rf_model.predict(X_test)\n",
    "print(metrics.accuracy_score(y_test, y_pred))"
   ]
  },
  {
   "cell_type": "code",
   "execution_count": 53,
   "metadata": {},
   "outputs": [
    {
     "data": {
      "image/png": "[encoded data removed]",
      "text/plain": [
       "<Figure size 432x432 with 1 Axes>"
      ]
     },
     "metadata": {
      "needs_background": "light"
     },
     "output_type": "display_data"
    }
   ],
   "source": [
    "plot_confusion_matrix(y_test, y_pred, labels = ['below', 'above'], metric = 'accuracy')"
   ]
  },
  {
   "cell_type": "code",
   "execution_count": 54,
   "metadata": {},
   "outputs": [
    {
     "name": "stdout",
     "output_type": "stream",
     "text": [
      "0.7933718736574705\n"
     ]
    }
   ],
   "source": [
    "y_pred_prob = rf_model.predict_proba(X_test)[:,1]\n",
    "\n",
    "print(metrics.roc_auc_score(y_test, y_pred_prob))"
   ]
  },
  {
   "cell_type": "code",
   "execution_count": 55,
   "metadata": {},
   "outputs": [
    {
     "data": {
      "image/png": "[encoded data removed]",
      "text/plain": [
       "<Figure size 432x288 with 1 Axes>"
      ]
     },
     "metadata": {
      "needs_background": "light"
     },
     "output_type": "display_data"
    }
   ],
   "source": [
    "fp_rate, tp_rate, thresholds = metrics.roc_curve(y_test, y_pred_prob)\n",
    "\n",
    "plt.plot(fp_rate, tp_rate)\n",
    "plt.xlim([0.0, 1.0])\n",
    "plt.ylim([0.0, 1.0])\n",
    "plt.title('ROC curve for Cancer Cost Above Average classifier')\n",
    "plt.xlabel('False Positive Rate (1 - Specificity)')\n",
    "plt.ylabel('True Positive Rate (Sensitivity)')\n",
    "plt.grid(True)"
   ]
  },
  {
   "cell_type": "code",
   "execution_count": 56,
   "metadata": {},
   "outputs": [
    {
     "data": {
      "image/png": "[encoded data removed]",
      "text/plain": [
       "<Figure size 432x288 with 1 Axes>"
      ]
     },
     "metadata": {
      "needs_background": "light"
     },
     "output_type": "display_data"
    }
   ],
   "source": [
    "importances = pd.DataFrame({'feature': X_train.columns, 'importance': rf_model.feature_importances_})\n",
    "\n",
    "sns.barplot(data = importances.sort_values('importance', ascending = False).head(10), x = 'importance', y = 'feature')\n",
    "plt.title('Ten Highest Importance Features');"
   ]
  },
  {
   "cell_type": "markdown",
   "metadata": {},
   "source": [
    "# Adding States"
   ]
  },
  {
   "cell_type": "code",
   "execution_count": 57,
   "metadata": {},
   "outputs": [],
   "source": [
    "combined_df_dummy = pd.get_dummies(combined_df, columns = ['state'])"
   ]
  },
  {
   "cell_type": "code",
   "execution_count": 58,
   "metadata": {},
   "outputs": [],
   "source": [
    "X = combined_df_dummy.drop(columns = ['county', 'above_avg_cancer_ratio', 'above_avg_ha_ratio'])\n",
    "y = combined_df_dummy.above_avg_cancer_ratio"
   ]
  },
  {
   "cell_type": "code",
   "execution_count": 59,
   "metadata": {},
   "outputs": [
    {
     "data": {
      "text/plain": [
       "LogisticRegression()"
      ]
     },
     "execution_count": 59,
     "metadata": {},
     "output_type": "execute_result"
    }
   ],
   "source": [
    "X_train, X_test, y_train, y_test = train_test_split(X, y, random_state = 2020)\n",
    "logistic_model = LogisticRegression()\n",
    "logistic_model.fit(X_train, y_train)"
   ]
  },
  {
   "cell_type": "code",
   "execution_count": 60,
   "metadata": {},
   "outputs": [
    {
     "data": {
      "image/png": "[encoded data removed]",
      "text/plain": [
       "<Figure size 504x360 with 1 Axes>"
      ]
     },
     "metadata": {
      "needs_background": "light"
     },
     "output_type": "display_data"
    }
   ],
   "source": [
    "fig, ax = plt.subplots(figsize = (7,5))\n",
    "sns.barplot(x = logistic_model.coef_[0], y = list(X.columns), ax = ax, edgecolor = 'black')\n",
    "plt.title('Logistic Regression Coefficients');"
   ]
  },
  {
   "cell_type": "code",
   "execution_count": 61,
   "metadata": {},
   "outputs": [
    {
     "name": "stdout",
     "output_type": "stream",
     "text": [
      "0.7572519083969466\n"
     ]
    }
   ],
   "source": [
    "y_pred = logistic_model.predict(X_test)\n",
    "print(metrics.accuracy_score(y_test, y_pred))"
   ]
  },
  {
   "cell_type": "code",
   "execution_count": 62,
   "metadata": {},
   "outputs": [
    {
     "data": {
      "image/png": "[encoded data removed]",
      "text/plain": [
       "<Figure size 432x432 with 1 Axes>"
      ]
     },
     "metadata": {
      "needs_background": "light"
     },
     "output_type": "display_data"
    }
   ],
   "source": [
    "plot_confusion_matrix(y_test, y_pred, labels = ['below', 'above'], metric = 'accuracy')"
   ]
  },
  {
   "cell_type": "code",
   "execution_count": 63,
   "metadata": {},
   "outputs": [
    {
     "name": "stdout",
     "output_type": "stream",
     "text": [
      "0.8306311522872032\n"
     ]
    }
   ],
   "source": [
    "y_pred_prob = logistic_model.predict_proba(X_test)[:,1]\n",
    "\n",
    "print(metrics.roc_auc_score(y_test, y_pred_prob))"
   ]
  },
  {
   "cell_type": "code",
   "execution_count": 64,
   "metadata": {},
   "outputs": [
    {
     "data": {
      "image/png": "[encoded data removed]",
      "text/plain": [
       "<Figure size 432x288 with 1 Axes>"
      ]
     },
     "metadata": {
      "needs_background": "light"
     },
     "output_type": "display_data"
    }
   ],
   "source": [
    "fp_rate, tp_rate, thresholds = metrics.roc_curve(y_test, y_pred_prob)\n",
    "\n",
    "plt.plot(fp_rate, tp_rate)\n",
    "plt.xlim([0.0, 1.0])\n",
    "plt.ylim([0.0, 1.0])\n",
    "plt.title('ROC curve for Cancer Cost Above Average classifier')\n",
    "plt.xlabel('False Positive Rate (1 - Specificity)')\n",
    "plt.ylabel('True Positive Rate (Sensitivity)')\n",
    "plt.grid(True)"
   ]
  },
  {
   "cell_type": "code",
   "execution_count": 65,
   "metadata": {},
   "outputs": [
    {
     "data": {
      "text/plain": [
       "RandomForestClassifier()"
      ]
     },
     "execution_count": 65,
     "metadata": {},
     "output_type": "execute_result"
    }
   ],
   "source": [
    "rf_model = RandomForestClassifier()\n",
    "rf_model.fit(X_train, y_train)"
   ]
  },
  {
   "cell_type": "code",
   "execution_count": 67,
   "metadata": {},
   "outputs": [
    {
     "name": "stdout",
     "output_type": "stream",
     "text": [
      "0.7725190839694657\n"
     ]
    }
   ],
   "source": [
    "y_pred = rf_model.predict(X_test)\n",
    "print(metrics.accuracy_score(y_test, y_pred))"
   ]
  },
  {
   "cell_type": "code",
   "execution_count": 68,
   "metadata": {},
   "outputs": [
    {
     "data": {
      "image/png": "[encoded data removed]",
      "text/plain": [
       "<Figure size 432x432 with 1 Axes>"
      ]
     },
     "metadata": {
      "needs_background": "light"
     },
     "output_type": "display_data"
    }
   ],
   "source": [
    "plot_confusion_matrix(y_test, y_pred, labels = ['below', 'above'], metric = 'accuracy')"
   ]
  },
  {
   "cell_type": "code",
   "execution_count": 69,
   "metadata": {},
   "outputs": [
    {
     "name": "stdout",
     "output_type": "stream",
     "text": [
      "0.8364635672525543\n"
     ]
    }
   ],
   "source": [
    "y_pred_prob = rf_model.predict_proba(X_test)[:,1]\n",
    "\n",
    "print(metrics.roc_auc_score(y_test, y_pred_prob))"
   ]
  },
  {
   "cell_type": "code",
   "execution_count": 70,
   "metadata": {},
   "outputs": [
    {
     "data": {
      "image/png": "[encoded data removed]",
      "text/plain": [
       "<Figure size 432x288 with 1 Axes>"
      ]
     },
     "metadata": {
      "needs_background": "light"
     },
     "output_type": "display_data"
    }
   ],
   "source": [
    "fp_rate, tp_rate, thresholds = metrics.roc_curve(y_test, y_pred_prob)\n",
    "\n",
    "plt.plot(fp_rate, tp_rate)\n",
    "plt.xlim([0.0, 1.0])\n",
    "plt.ylim([0.0, 1.0])\n",
    "plt.title('ROC curve for Cancer Cost Above Average classifier')\n",
    "plt.xlabel('False Positive Rate (1 - Specificity)')\n",
    "plt.ylabel('True Positive Rate (Sensitivity)')\n",
    "plt.grid(True)"
   ]
  },
  {
   "cell_type": "code",
   "execution_count": 71,
   "metadata": {},
   "outputs": [
    {
     "data": {
      "image/png": "[encoded data removed]",
      "text/plain": [
       "<Figure size 432x288 with 1 Axes>"
      ]
     },
     "metadata": {
      "needs_background": "light"
     },
     "output_type": "display_data"
    }
   ],
   "source": [
    "importances = pd.DataFrame({'feature': X_train.columns, 'importance': rf_model.feature_importances_})\n",
    "\n",
    "sns.barplot(data = importances.sort_values('importance', ascending = False).head(10), x = 'importance', y = 'feature')\n",
    "plt.title('Ten Highest Importance Features');"
   ]
  },
  {
   "cell_type": "markdown",
   "metadata": {},
   "source": [
    "# Adding the Health Outcomes Data"
   ]
  },
  {
   "cell_type": "code",
   "execution_count": 72,
   "metadata": {},
   "outputs": [],
   "source": [
    "health_rankings = pd.read_excel('../data/2018 County Health Rankings Data - v2.xls', sheet_name = 1, header = (1))"
   ]
  },
  {
   "cell_type": "code",
   "execution_count": 73,
   "metadata": {},
   "outputs": [],
   "source": [
    "health_rankings = health_rankings.rename(columns = {'Rank': 'Outcomes_Rank',\n",
    "                                 'Quartile': 'Outcomes_Quartile',\n",
    "                                 'Rank.1': 'Factors_Rank',\n",
    "                                 'Quartile.1': 'Factors_Quartile'})"
   ]
  },
  {
   "cell_type": "code",
   "execution_count": 74,
   "metadata": {},
   "outputs": [],
   "source": [
    "for col in ['Outcomes_Rank', 'Factors_Rank']:\n",
    "    health_rankings[col] = pd.to_numeric(health_rankings[col], errors = 'coerce')\n",
    "    health_rankings['Normalized_{}'.format(col.split('_')[0])] = 1 - health_rankings[col] / (health_rankings['# of Ranked Counties'] + 1)"
   ]
  },
  {
   "cell_type": "code",
   "execution_count": 75,
   "metadata": {},
   "outputs": [
    {
     "data": {
      "text/html": [
       "<div>\n",
       "<style scoped>\n",
       "    .dataframe tbody tr th:only-of-type {\n",
       "        vertical-align: middle;\n",
       "    }\n",
       "\n",
       "    .dataframe tbody tr th {\n",
       "        vertical-align: top;\n",
       "    }\n",
       "\n",
       "    .dataframe thead th {\n",
       "        text-align: right;\n",
       "    }\n",
       "</style>\n",
       "<table border=\"1\" class=\"dataframe\">\n",
       "  <thead>\n",
       "    <tr style=\"text-align: right;\">\n",
       "      <th></th>\n",
       "      <th>FIPS</th>\n",
       "      <th>State</th>\n",
       "      <th>County</th>\n",
       "      <th># of Ranked Counties</th>\n",
       "      <th>Outcomes_Rank</th>\n",
       "      <th>Outcomes_Quartile</th>\n",
       "      <th>Factors_Rank</th>\n",
       "      <th>Factors_Quartile</th>\n",
       "      <th>Normalized_Outcomes</th>\n",
       "      <th>Normalized_Factors</th>\n",
       "    </tr>\n",
       "  </thead>\n",
       "  <tbody>\n",
       "    <tr>\n",
       "      <th>0</th>\n",
       "      <td>1001</td>\n",
       "      <td>Alabama</td>\n",
       "      <td>Autauga</td>\n",
       "      <td>67</td>\n",
       "      <td>11.0</td>\n",
       "      <td>1</td>\n",
       "      <td>8.0</td>\n",
       "      <td>1</td>\n",
       "      <td>0.838235</td>\n",
       "      <td>0.882353</td>\n",
       "    </tr>\n",
       "    <tr>\n",
       "      <th>1</th>\n",
       "      <td>1003</td>\n",
       "      <td>Alabama</td>\n",
       "      <td>Baldwin</td>\n",
       "      <td>67</td>\n",
       "      <td>3.0</td>\n",
       "      <td>1</td>\n",
       "      <td>3.0</td>\n",
       "      <td>1</td>\n",
       "      <td>0.955882</td>\n",
       "      <td>0.955882</td>\n",
       "    </tr>\n",
       "    <tr>\n",
       "      <th>2</th>\n",
       "      <td>1005</td>\n",
       "      <td>Alabama</td>\n",
       "      <td>Barbour</td>\n",
       "      <td>67</td>\n",
       "      <td>34.0</td>\n",
       "      <td>2</td>\n",
       "      <td>56.0</td>\n",
       "      <td>4</td>\n",
       "      <td>0.500000</td>\n",
       "      <td>0.176471</td>\n",
       "    </tr>\n",
       "    <tr>\n",
       "      <th>3</th>\n",
       "      <td>1007</td>\n",
       "      <td>Alabama</td>\n",
       "      <td>Bibb</td>\n",
       "      <td>67</td>\n",
       "      <td>41.0</td>\n",
       "      <td>3</td>\n",
       "      <td>37.0</td>\n",
       "      <td>3</td>\n",
       "      <td>0.397059</td>\n",
       "      <td>0.455882</td>\n",
       "    </tr>\n",
       "    <tr>\n",
       "      <th>4</th>\n",
       "      <td>1009</td>\n",
       "      <td>Alabama</td>\n",
       "      <td>Blount</td>\n",
       "      <td>67</td>\n",
       "      <td>14.0</td>\n",
       "      <td>1</td>\n",
       "      <td>19.0</td>\n",
       "      <td>2</td>\n",
       "      <td>0.794118</td>\n",
       "      <td>0.720588</td>\n",
       "    </tr>\n",
       "    <tr>\n",
       "      <th>...</th>\n",
       "      <td>...</td>\n",
       "      <td>...</td>\n",
       "      <td>...</td>\n",
       "      <td>...</td>\n",
       "      <td>...</td>\n",
       "      <td>...</td>\n",
       "      <td>...</td>\n",
       "      <td>...</td>\n",
       "      <td>...</td>\n",
       "      <td>...</td>\n",
       "    </tr>\n",
       "    <tr>\n",
       "      <th>3137</th>\n",
       "      <td>56037</td>\n",
       "      <td>Wyoming</td>\n",
       "      <td>Sweetwater</td>\n",
       "      <td>23</td>\n",
       "      <td>15.0</td>\n",
       "      <td>3</td>\n",
       "      <td>21.0</td>\n",
       "      <td>4</td>\n",
       "      <td>0.375000</td>\n",
       "      <td>0.125000</td>\n",
       "    </tr>\n",
       "    <tr>\n",
       "      <th>3138</th>\n",
       "      <td>56039</td>\n",
       "      <td>Wyoming</td>\n",
       "      <td>Teton</td>\n",
       "      <td>23</td>\n",
       "      <td>1.0</td>\n",
       "      <td>1</td>\n",
       "      <td>1.0</td>\n",
       "      <td>1</td>\n",
       "      <td>0.958333</td>\n",
       "      <td>0.958333</td>\n",
       "    </tr>\n",
       "    <tr>\n",
       "      <th>3139</th>\n",
       "      <td>56041</td>\n",
       "      <td>Wyoming</td>\n",
       "      <td>Uinta</td>\n",
       "      <td>23</td>\n",
       "      <td>21.0</td>\n",
       "      <td>4</td>\n",
       "      <td>17.0</td>\n",
       "      <td>3</td>\n",
       "      <td>0.125000</td>\n",
       "      <td>0.291667</td>\n",
       "    </tr>\n",
       "    <tr>\n",
       "      <th>3140</th>\n",
       "      <td>56043</td>\n",
       "      <td>Wyoming</td>\n",
       "      <td>Washakie</td>\n",
       "      <td>23</td>\n",
       "      <td>8.0</td>\n",
       "      <td>2</td>\n",
       "      <td>15.0</td>\n",
       "      <td>3</td>\n",
       "      <td>0.666667</td>\n",
       "      <td>0.375000</td>\n",
       "    </tr>\n",
       "    <tr>\n",
       "      <th>3141</th>\n",
       "      <td>56045</td>\n",
       "      <td>Wyoming</td>\n",
       "      <td>Weston</td>\n",
       "      <td>23</td>\n",
       "      <td>4.0</td>\n",
       "      <td>1</td>\n",
       "      <td>14.0</td>\n",
       "      <td>3</td>\n",
       "      <td>0.833333</td>\n",
       "      <td>0.416667</td>\n",
       "    </tr>\n",
       "  </tbody>\n",
       "</table>\n",
       "<p>3142 rows × 10 columns</p>\n",
       "</div>"
      ],
      "text/plain": [
       "       FIPS    State      County  # of Ranked Counties  Outcomes_Rank  \\\n",
       "0      1001  Alabama     Autauga                    67           11.0   \n",
       "1      1003  Alabama     Baldwin                    67            3.0   \n",
       "2      1005  Alabama     Barbour                    67           34.0   \n",
       "3      1007  Alabama        Bibb                    67           41.0   \n",
       "4      1009  Alabama      Blount                    67           14.0   \n",
       "...     ...      ...         ...                   ...            ...   \n",
       "3137  56037  Wyoming  Sweetwater                    23           15.0   \n",
       "3138  56039  Wyoming       Teton                    23            1.0   \n",
       "3139  56041  Wyoming       Uinta                    23           21.0   \n",
       "3140  56043  Wyoming    Washakie                    23            8.0   \n",
       "3141  56045  Wyoming      Weston                    23            4.0   \n",
       "\n",
       "     Outcomes_Quartile  Factors_Rank Factors_Quartile  Normalized_Outcomes  \\\n",
       "0                    1           8.0                1             0.838235   \n",
       "1                    1           3.0                1             0.955882   \n",
       "2                    2          56.0                4             0.500000   \n",
       "3                    3          37.0                3             0.397059   \n",
       "4                    1          19.0                2             0.794118   \n",
       "...                ...           ...              ...                  ...   \n",
       "3137                 3          21.0                4             0.375000   \n",
       "3138                 1           1.0                1             0.958333   \n",
       "3139                 4          17.0                3             0.125000   \n",
       "3140                 2          15.0                3             0.666667   \n",
       "3141                 1          14.0                3             0.833333   \n",
       "\n",
       "      Normalized_Factors  \n",
       "0               0.882353  \n",
       "1               0.955882  \n",
       "2               0.176471  \n",
       "3               0.455882  \n",
       "4               0.720588  \n",
       "...                  ...  \n",
       "3137            0.125000  \n",
       "3138            0.958333  \n",
       "3139            0.291667  \n",
       "3140            0.375000  \n",
       "3141            0.416667  \n",
       "\n",
       "[3142 rows x 10 columns]"
      ]
     },
     "execution_count": 75,
     "metadata": {},
     "output_type": "execute_result"
    }
   ],
   "source": [
    "health_rankings"
   ]
  },
  {
   "cell_type": "code",
   "execution_count": 76,
   "metadata": {},
   "outputs": [],
   "source": [
    "health_rankings = health_rankings.dropna(subset = ['Normalized_Outcomes', 'Normalized_Factors'])"
   ]
  },
  {
   "cell_type": "code",
   "execution_count": 77,
   "metadata": {},
   "outputs": [
    {
     "name": "stderr",
     "output_type": "stream",
     "text": [
      "<ipython-input-77-b730a8b56ae9>:1: SettingWithCopyWarning: \n",
      "A value is trying to be set on a copy of a slice from a DataFrame.\n",
      "Try using .loc[row_indexer,col_indexer] = value instead\n",
      "\n",
      "See the caveats in the documentation: https://pandas.pydata.org/pandas-docs/stable/user_guide/indexing.html#returning-a-view-versus-a-copy\n",
      "  health_rankings['state'] = health_rankings.State.str.upper().str.strip().map(state_abbrev.set_index('name')['abbrev'].to_dict())\n"
     ]
    }
   ],
   "source": [
    "health_rankings['state'] = health_rankings.State.str.upper().str.strip().map(state_abbrev.set_index('name')['abbrev'].to_dict())"
   ]
  },
  {
   "cell_type": "code",
   "execution_count": 78,
   "metadata": {},
   "outputs": [
    {
     "name": "stderr",
     "output_type": "stream",
     "text": [
      "<ipython-input-78-def3c01f3ed4>:1: SettingWithCopyWarning: \n",
      "A value is trying to be set on a copy of a slice from a DataFrame.\n",
      "Try using .loc[row_indexer,col_indexer] = value instead\n",
      "\n",
      "See the caveats in the documentation: https://pandas.pydata.org/pandas-docs/stable/user_guide/indexing.html#returning-a-view-versus-a-copy\n",
      "  health_rankings['county'] = health_rankings['County'] + ' County'\n"
     ]
    }
   ],
   "source": [
    "health_rankings['county'] = health_rankings['County'] + ' County'"
   ]
  },
  {
   "cell_type": "code",
   "execution_count": 79,
   "metadata": {},
   "outputs": [],
   "source": [
    "combined_df = pd.merge(left = combined_df, right = health_rankings[['state', 'county', 'Normalized_Outcomes', 'Normalized_Factors']])"
   ]
  },
  {
   "cell_type": "code",
   "execution_count": 80,
   "metadata": {},
   "outputs": [
    {
     "data": {
      "text/plain": [
       "LogisticRegression()"
      ]
     },
     "execution_count": 80,
     "metadata": {},
     "output_type": "execute_result"
    }
   ],
   "source": [
    "combined_df_dummy = pd.get_dummies(combined_df, columns = ['state'])\n",
    "X = combined_df_dummy.drop(columns = ['county', 'above_avg_cancer_ratio', 'above_avg_ha_ratio'])\n",
    "y = combined_df_dummy.above_avg_cancer_ratio\n",
    "\n",
    "X_train, X_test, y_train, y_test = train_test_split(X, y, random_state = 2020)\n",
    "logistic_model = LogisticRegression()\n",
    "logistic_model.fit(X_train, y_train)"
   ]
  },
  {
   "cell_type": "code",
   "execution_count": 81,
   "metadata": {},
   "outputs": [
    {
     "name": "stdout",
     "output_type": "stream",
     "text": [
      "0.8003169572107766\n"
     ]
    }
   ],
   "source": [
    "y_pred = logistic_model.predict(X_test)\n",
    "print(metrics.accuracy_score(y_test, y_pred))"
   ]
  },
  {
   "cell_type": "code",
   "execution_count": 82,
   "metadata": {},
   "outputs": [
    {
     "data": {
      "image/png": "[encoded data removed]",
      "text/plain": [
       "<Figure size 432x432 with 1 Axes>"
      ]
     },
     "metadata": {
      "needs_background": "light"
     },
     "output_type": "display_data"
    }
   ],
   "source": [
    "plot_confusion_matrix(y_test, y_pred, labels = ['below', 'above'], metric = 'accuracy')"
   ]
  },
  {
   "cell_type": "code",
   "execution_count": 84,
   "metadata": {},
   "outputs": [
    {
     "data": {
      "text/plain": [
       "RandomForestClassifier()"
      ]
     },
     "execution_count": 84,
     "metadata": {},
     "output_type": "execute_result"
    }
   ],
   "source": [
    "rf_model = RandomForestClassifier()\n",
    "rf_model.fit(X_train, y_train)"
   ]
  },
  {
   "cell_type": "code",
   "execution_count": 85,
   "metadata": {},
   "outputs": [
    {
     "name": "stdout",
     "output_type": "stream",
     "text": [
      "0.7733755942947702\n"
     ]
    }
   ],
   "source": [
    "y_pred = rf_model.predict(X_test)\n",
    "print(metrics.accuracy_score(y_test, y_pred))"
   ]
  },
  {
   "cell_type": "code",
   "execution_count": 86,
   "metadata": {},
   "outputs": [
    {
     "data": {
      "image/png": "[encoded data removed]",
      "text/plain": [
       "<Figure size 432x432 with 1 Axes>"
      ]
     },
     "metadata": {
      "needs_background": "light"
     },
     "output_type": "display_data"
    }
   ],
   "source": [
    "plot_confusion_matrix(y_test, y_pred, labels = ['below', 'above'], metric = 'accuracy')"
   ]
  },
  {
   "cell_type": "code",
   "execution_count": 87,
   "metadata": {},
   "outputs": [
    {
     "name": "stdout",
     "output_type": "stream",
     "text": [
      "0.8645498392282958\n"
     ]
    }
   ],
   "source": [
    "y_pred_prob = rf_model.predict_proba(X_test)[:,1]\n",
    "\n",
    "print(metrics.roc_auc_score(y_test, y_pred_prob))"
   ]
  },
  {
   "cell_type": "code",
   "execution_count": 88,
   "metadata": {},
   "outputs": [
    {
     "data": {
      "image/png": "[encoded data removed]",
      "text/plain": [
       "<Figure size 432x288 with 1 Axes>"
      ]
     },
     "metadata": {
      "needs_background": "light"
     },
     "output_type": "display_data"
    }
   ],
   "source": [
    "fp_rate, tp_rate, thresholds = metrics.roc_curve(y_test, y_pred_prob)\n",
    "\n",
    "plt.plot(fp_rate, tp_rate)\n",
    "plt.xlim([0.0, 1.0])\n",
    "plt.ylim([0.0, 1.0])\n",
    "plt.title('ROC curve for Cancer Cost Above Average classifier')\n",
    "plt.xlabel('False Positive Rate (1 - Specificity)')\n",
    "plt.ylabel('True Positive Rate (Sensitivity)')\n",
    "plt.grid(True)"
   ]
  },
  {
   "cell_type": "code",
   "execution_count": 89,
   "metadata": {},
   "outputs": [
    {
     "data": {
      "image/png": "[encoded data removed]",
      "text/plain": [
       "<Figure size 432x288 with 1 Axes>"
      ]
     },
     "metadata": {
      "needs_background": "light"
     },
     "output_type": "display_data"
    }
   ],
   "source": [
    "importances = pd.DataFrame({'feature': X_train.columns, 'importance': rf_model.feature_importances_})\n",
    "\n",
    "sns.barplot(data = importances.sort_values('importance', ascending = False).head(10), x = 'importance', y = 'feature')\n",
    "plt.title('Ten Highest Importance Features');"
   ]
  },
  {
   "cell_type": "markdown",
   "metadata": {},
   "source": [
    "There are many other variables that could be added from the excel sheet. For example, here is code to grab food insecurity."
   ]
  },
  {
   "cell_type": "code",
   "execution_count": 90,
   "metadata": {},
   "outputs": [],
   "source": [
    "food_insecurity = pd.read_excel('../data/2018 County Health Rankings Data - v2.xls', \n",
    "              sheet_name = 5, \n",
    "              header = 1, \n",
    "              usecols='B,C,AK')"
   ]
  },
  {
   "cell_type": "code",
   "execution_count": 91,
   "metadata": {},
   "outputs": [],
   "source": [
    "food_insecurity['state'] = food_insecurity.State.str.upper().str.strip().map(state_abbrev.set_index('name')['abbrev'].to_dict())\n",
    "food_insecurity['county'] = food_insecurity['County'] + ' County'"
   ]
  },
  {
   "cell_type": "code",
   "execution_count": 92,
   "metadata": {},
   "outputs": [],
   "source": [
    "combined_df = pd.merge(left = combined_df, right = food_insecurity[['state', 'county', '% Food Insecure']])"
   ]
  },
  {
   "cell_type": "code",
   "execution_count": 93,
   "metadata": {},
   "outputs": [
    {
     "data": {
      "text/html": [
       "<div>\n",
       "<style scoped>\n",
       "    .dataframe tbody tr th:only-of-type {\n",
       "        vertical-align: middle;\n",
       "    }\n",
       "\n",
       "    .dataframe tbody tr th {\n",
       "        vertical-align: top;\n",
       "    }\n",
       "\n",
       "    .dataframe thead th {\n",
       "        text-align: right;\n",
       "    }\n",
       "</style>\n",
       "<table border=\"1\" class=\"dataframe\">\n",
       "  <thead>\n",
       "    <tr style=\"text-align: right;\">\n",
       "      <th></th>\n",
       "      <th>state</th>\n",
       "      <th>county</th>\n",
       "      <th>above_avg_cancer_ratio</th>\n",
       "      <th>above_avg_ha_ratio</th>\n",
       "      <th>urban_Urban</th>\n",
       "      <th>Percent Below Federal Poverty Level (5y Avg.)</th>\n",
       "      <th>Percent of Senior Population Below Federal Poverty Level (5y Avg.)</th>\n",
       "      <th>Unemployment Rate (5y Avg.)</th>\n",
       "      <th>Normalized_Outcomes</th>\n",
       "      <th>Normalized_Factors</th>\n",
       "      <th>% Food Insecure</th>\n",
       "    </tr>\n",
       "  </thead>\n",
       "  <tbody>\n",
       "    <tr>\n",
       "      <th>0</th>\n",
       "      <td>AL</td>\n",
       "      <td>Autauga County</td>\n",
       "      <td>False</td>\n",
       "      <td>False</td>\n",
       "      <td>1</td>\n",
       "      <td>0.122660</td>\n",
       "      <td>0.061893</td>\n",
       "      <td>0.055252</td>\n",
       "      <td>0.838235</td>\n",
       "      <td>0.882353</td>\n",
       "      <td>13.9</td>\n",
       "    </tr>\n",
       "    <tr>\n",
       "      <th>1</th>\n",
       "      <td>AL</td>\n",
       "      <td>Baldwin County</td>\n",
       "      <td>False</td>\n",
       "      <td>False</td>\n",
       "      <td>0</td>\n",
       "      <td>0.129938</td>\n",
       "      <td>0.069984</td>\n",
       "      <td>0.062713</td>\n",
       "      <td>0.955882</td>\n",
       "      <td>0.955882</td>\n",
       "      <td>13.0</td>\n",
       "    </tr>\n",
       "    <tr>\n",
       "      <th>2</th>\n",
       "      <td>AL</td>\n",
       "      <td>Barbour County</td>\n",
       "      <td>True</td>\n",
       "      <td>True</td>\n",
       "      <td>0</td>\n",
       "      <td>0.263737</td>\n",
       "      <td>0.162366</td>\n",
       "      <td>0.128247</td>\n",
       "      <td>0.500000</td>\n",
       "      <td>0.176471</td>\n",
       "      <td>23.4</td>\n",
       "    </tr>\n",
       "    <tr>\n",
       "      <th>3</th>\n",
       "      <td>AL</td>\n",
       "      <td>Bibb County</td>\n",
       "      <td>False</td>\n",
       "      <td>False</td>\n",
       "      <td>1</td>\n",
       "      <td>0.164539</td>\n",
       "      <td>0.106445</td>\n",
       "      <td>0.071429</td>\n",
       "      <td>0.397059</td>\n",
       "      <td>0.455882</td>\n",
       "      <td>16.1</td>\n",
       "    </tr>\n",
       "    <tr>\n",
       "      <th>4</th>\n",
       "      <td>AL</td>\n",
       "      <td>Blount County</td>\n",
       "      <td>True</td>\n",
       "      <td>True</td>\n",
       "      <td>1</td>\n",
       "      <td>0.165344</td>\n",
       "      <td>0.098941</td>\n",
       "      <td>0.059515</td>\n",
       "      <td>0.794118</td>\n",
       "      <td>0.720588</td>\n",
       "      <td>11.3</td>\n",
       "    </tr>\n",
       "    <tr>\n",
       "      <th>...</th>\n",
       "      <td>...</td>\n",
       "      <td>...</td>\n",
       "      <td>...</td>\n",
       "      <td>...</td>\n",
       "      <td>...</td>\n",
       "      <td>...</td>\n",
       "      <td>...</td>\n",
       "      <td>...</td>\n",
       "      <td>...</td>\n",
       "      <td>...</td>\n",
       "      <td>...</td>\n",
       "    </tr>\n",
       "    <tr>\n",
       "      <th>2519</th>\n",
       "      <td>WY</td>\n",
       "      <td>Sheridan County</td>\n",
       "      <td>False</td>\n",
       "      <td>False</td>\n",
       "      <td>0</td>\n",
       "      <td>0.082020</td>\n",
       "      <td>0.067203</td>\n",
       "      <td>0.037783</td>\n",
       "      <td>0.625000</td>\n",
       "      <td>0.666667</td>\n",
       "      <td>12.4</td>\n",
       "    </tr>\n",
       "    <tr>\n",
       "      <th>2520</th>\n",
       "      <td>WY</td>\n",
       "      <td>Sweetwater County</td>\n",
       "      <td>False</td>\n",
       "      <td>False</td>\n",
       "      <td>0</td>\n",
       "      <td>0.110221</td>\n",
       "      <td>0.089024</td>\n",
       "      <td>0.050685</td>\n",
       "      <td>0.375000</td>\n",
       "      <td>0.125000</td>\n",
       "      <td>10.6</td>\n",
       "    </tr>\n",
       "    <tr>\n",
       "      <th>2521</th>\n",
       "      <td>WY</td>\n",
       "      <td>Teton County</td>\n",
       "      <td>False</td>\n",
       "      <td>False</td>\n",
       "      <td>0</td>\n",
       "      <td>0.073255</td>\n",
       "      <td>0.046450</td>\n",
       "      <td>0.021234</td>\n",
       "      <td>0.958333</td>\n",
       "      <td>0.958333</td>\n",
       "      <td>10.2</td>\n",
       "    </tr>\n",
       "    <tr>\n",
       "      <th>2522</th>\n",
       "      <td>WY</td>\n",
       "      <td>Uinta County</td>\n",
       "      <td>False</td>\n",
       "      <td>True</td>\n",
       "      <td>0</td>\n",
       "      <td>0.167586</td>\n",
       "      <td>0.097962</td>\n",
       "      <td>0.063908</td>\n",
       "      <td>0.125000</td>\n",
       "      <td>0.291667</td>\n",
       "      <td>12.6</td>\n",
       "    </tr>\n",
       "    <tr>\n",
       "      <th>2523</th>\n",
       "      <td>WY</td>\n",
       "      <td>Washakie County</td>\n",
       "      <td>False</td>\n",
       "      <td>True</td>\n",
       "      <td>0</td>\n",
       "      <td>0.146562</td>\n",
       "      <td>0.044981</td>\n",
       "      <td>0.074419</td>\n",
       "      <td>0.666667</td>\n",
       "      <td>0.375000</td>\n",
       "      <td>11.3</td>\n",
       "    </tr>\n",
       "  </tbody>\n",
       "</table>\n",
       "<p>2524 rows × 11 columns</p>\n",
       "</div>"
      ],
      "text/plain": [
       "     state             county  above_avg_cancer_ratio  above_avg_ha_ratio  \\\n",
       "0       AL     Autauga County                   False               False   \n",
       "1       AL     Baldwin County                   False               False   \n",
       "2       AL     Barbour County                    True                True   \n",
       "3       AL        Bibb County                   False               False   \n",
       "4       AL      Blount County                    True                True   \n",
       "...    ...                ...                     ...                 ...   \n",
       "2519    WY    Sheridan County                   False               False   \n",
       "2520    WY  Sweetwater County                   False               False   \n",
       "2521    WY       Teton County                   False               False   \n",
       "2522    WY       Uinta County                   False                True   \n",
       "2523    WY    Washakie County                   False                True   \n",
       "\n",
       "      urban_Urban  Percent Below Federal Poverty Level (5y Avg.)  \\\n",
       "0               1                                       0.122660   \n",
       "1               0                                       0.129938   \n",
       "2               0                                       0.263737   \n",
       "3               1                                       0.164539   \n",
       "4               1                                       0.165344   \n",
       "...           ...                                            ...   \n",
       "2519            0                                       0.082020   \n",
       "2520            0                                       0.110221   \n",
       "2521            0                                       0.073255   \n",
       "2522            0                                       0.167586   \n",
       "2523            0                                       0.146562   \n",
       "\n",
       "      Percent of Senior Population Below Federal Poverty Level (5y Avg.)  \\\n",
       "0                                              0.061893                    \n",
       "1                                              0.069984                    \n",
       "2                                              0.162366                    \n",
       "3                                              0.106445                    \n",
       "4                                              0.098941                    \n",
       "...                                                 ...                    \n",
       "2519                                           0.067203                    \n",
       "2520                                           0.089024                    \n",
       "2521                                           0.046450                    \n",
       "2522                                           0.097962                    \n",
       "2523                                           0.044981                    \n",
       "\n",
       "      Unemployment Rate (5y Avg.)  Normalized_Outcomes  Normalized_Factors  \\\n",
       "0                        0.055252             0.838235            0.882353   \n",
       "1                        0.062713             0.955882            0.955882   \n",
       "2                        0.128247             0.500000            0.176471   \n",
       "3                        0.071429             0.397059            0.455882   \n",
       "4                        0.059515             0.794118            0.720588   \n",
       "...                           ...                  ...                 ...   \n",
       "2519                     0.037783             0.625000            0.666667   \n",
       "2520                     0.050685             0.375000            0.125000   \n",
       "2521                     0.021234             0.958333            0.958333   \n",
       "2522                     0.063908             0.125000            0.291667   \n",
       "2523                     0.074419             0.666667            0.375000   \n",
       "\n",
       "      % Food Insecure  \n",
       "0                13.9  \n",
       "1                13.0  \n",
       "2                23.4  \n",
       "3                16.1  \n",
       "4                11.3  \n",
       "...               ...  \n",
       "2519             12.4  \n",
       "2520             10.6  \n",
       "2521             10.2  \n",
       "2522             12.6  \n",
       "2523             11.3  \n",
       "\n",
       "[2524 rows x 11 columns]"
      ]
     },
     "execution_count": 93,
     "metadata": {},
     "output_type": "execute_result"
    }
   ],
   "source": [
    "combined_df"
   ]
  },
  {
   "cell_type": "code",
   "execution_count": 94,
   "metadata": {},
   "outputs": [
    {
     "data": {
      "text/plain": [
       "RandomForestClassifier()"
      ]
     },
     "execution_count": 94,
     "metadata": {},
     "output_type": "execute_result"
    }
   ],
   "source": [
    "combined_df_dummy = pd.get_dummies(combined_df, columns = ['state'])\n",
    "X = combined_df_dummy.drop(columns = ['county', 'above_avg_cancer_ratio', 'above_avg_ha_ratio'])\n",
    "y = combined_df_dummy.above_avg_cancer_ratio\n",
    "\n",
    "X_train, X_test, y_train, y_test = train_test_split(X, y, random_state = 2020)\n",
    "rf_model = RandomForestClassifier()\n",
    "rf_model.fit(X_train, y_train)"
   ]
  },
  {
   "cell_type": "code",
   "execution_count": 95,
   "metadata": {},
   "outputs": [
    {
     "name": "stdout",
     "output_type": "stream",
     "text": [
      "0.7702060221870047\n"
     ]
    }
   ],
   "source": [
    "y_pred = rf_model.predict(X_test)\n",
    "print(metrics.accuracy_score(y_test, y_pred))"
   ]
  },
  {
   "cell_type": "code",
   "execution_count": 96,
   "metadata": {},
   "outputs": [
    {
     "data": {
      "image/png": "[encoded data removed]",
      "text/plain": [
       "<Figure size 432x432 with 1 Axes>"
      ]
     },
     "metadata": {
      "needs_background": "light"
     },
     "output_type": "display_data"
    }
   ],
   "source": [
    "plot_confusion_matrix(y_test, y_pred, labels = ['below', 'above'], metric = 'accuracy')"
   ]
  },
  {
   "cell_type": "code",
   "execution_count": 97,
   "metadata": {},
   "outputs": [
    {
     "name": "stdout",
     "output_type": "stream",
     "text": [
      "0.8601386655948552\n"
     ]
    }
   ],
   "source": [
    "y_pred_prob = rf_model.predict_proba(X_test)[:,1]\n",
    "\n",
    "print(metrics.roc_auc_score(y_test, y_pred_prob))"
   ]
  },
  {
   "cell_type": "code",
   "execution_count": 98,
   "metadata": {},
   "outputs": [
    {
     "data": {
      "image/png": "[encoded data removed]",
      "text/plain": [
       "<Figure size 432x288 with 1 Axes>"
      ]
     },
     "metadata": {
      "needs_background": "light"
     },
     "output_type": "display_data"
    }
   ],
   "source": [
    "fp_rate, tp_rate, thresholds = metrics.roc_curve(y_test, y_pred_prob)\n",
    "\n",
    "plt.plot(fp_rate, tp_rate)\n",
    "plt.xlim([0.0, 1.0])\n",
    "plt.ylim([0.0, 1.0])\n",
    "plt.title('ROC curve for Cancer Cost Above Average classifier')\n",
    "plt.xlabel('False Positive Rate (1 - Specificity)')\n",
    "plt.ylabel('True Positive Rate (Sensitivity)')\n",
    "plt.grid(True)"
   ]
  },
  {
   "cell_type": "code",
   "execution_count": 101,
   "metadata": {},
   "outputs": [
    {
     "data": {
      "image/png": "[encoded data removed]",
      "text/plain": [
       "<Figure size 432x288 with 1 Axes>"
      ]
     },
     "metadata": {
      "needs_background": "light"
     },
     "output_type": "display_data"
    }
   ],
   "source": [
    "importances = pd.DataFrame({'feature': X_train.columns, 'importance': rf_model.feature_importances_})\n",
    "\n",
    "sns.barplot(data = importances.sort_values('importance', ascending = False).head(10), x = 'importance', y = 'feature')\n",
    "plt.title('Ten Highest Importance Features');"
   ]
  }
 ],
 "metadata": {
  "kernelspec": {
   "display_name": "Python 3",
   "language": "python",
   "name": "python3"
  },
  "language_info": {
   "codemirror_mode": {
    "name": "ipython",
    "version": 3
   },
   "file_extension": ".py",
   "mimetype": "text/x-python",
   "name": "python",
   "nbconvert_exporter": "python",
   "pygments_lexer": "ipython3",
   "version": "3.8.3"
  }
 },
 "nbformat": 4,
 "nbformat_minor": 2
}
