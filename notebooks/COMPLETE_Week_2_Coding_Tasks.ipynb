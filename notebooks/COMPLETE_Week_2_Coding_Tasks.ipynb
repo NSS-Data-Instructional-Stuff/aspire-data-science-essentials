{
 "cells": [
  {
   "cell_type": "markdown",
   "id": "2babeb5f",
   "metadata": {},
   "source": [
    "## Week 2 Coding Tasks"
   ]
  },
  {
   "cell_type": "markdown",
   "id": "ff3bf972",
   "metadata": {},
   "source": [
    "First, you'll work with a dataset containing the number of primary care physicians per county for each county in the United States. It was obtained from the Area Health Resources File, published by the [Health Resources and Services Administration](https://data.hrsa.gov/topics/health-workforce/ahrf). This data is contained in the file `primary_care_physicians.csv`.\n",
    "\n",
    "Second, the file `population_by_county.csv` contains the Census Bureau's 2019 population estimates for each US County. It also contains a column `urban`. The `urban` column uses data from the National Bureau of Economic Research to classify each county as either urban or rural. The U.S. Office of Management and Budget designates counties as metropolitan (a core urban area of 50,000 or more population), micropolitan (an urban core of at least 10,000 but less than 50,000 population), or neither. Here, a county is considered \"urban\" if it is part of a metropolitan or micropolitan area and \"rural\" if it is not."
   ]
  },
  {
   "cell_type": "markdown",
   "id": "7f403e32",
   "metadata": {},
   "source": [
    " 1. First, import the primary care physicians dataset (`primary_care_physicians.csv`) into a data frame named `physicians`. "
   ]
  },
  {
   "cell_type": "code",
   "execution_count": null,
   "id": "317d98ac",
   "metadata": {},
   "outputs": [],
   "source": [
    "import pandas as pd"
   ]
  },
  {
   "cell_type": "code",
   "execution_count": null,
   "id": "e61b8987",
   "metadata": {},
   "outputs": [],
   "source": [
    "physicians = pd.read_csv('../data/primary_care_physicians.csv')\n",
    "physicians.head(2)"
   ]
  },
  {
   "cell_type": "markdown",
   "id": "6eff2138",
   "metadata": {},
   "source": [
    " 2. Filter `physicians` down to just the counties in Tennessee. Save the filtered dataframe back to `physicians`. Verify that the resulting dataframe has 95 rows."
   ]
  },
  {
   "cell_type": "code",
   "execution_count": null,
   "id": "def0321f",
   "metadata": {},
   "outputs": [],
   "source": [
    "physicians = physicians[physicians['state'] == 'Tennessee']\n",
    "physicians.shape"
   ]
  },
  {
   "cell_type": "markdown",
   "id": "1e89b412",
   "metadata": {},
   "source": [
    " 3. Look at the distribution of the number of primary care physicians. What do you notice?"
   ]
  },
  {
   "cell_type": "code",
   "execution_count": null,
   "id": "976f8810",
   "metadata": {},
   "outputs": [],
   "source": [
    "physicians['primary_care_physicians'].describe()"
   ]
  },
  {
   "cell_type": "markdown",
   "id": "b97ab1b2",
   "metadata": {},
   "source": [
    " 4. Now, import the population by county dataset (`population_by_county.csv`) into a DataFrame named `population`."
   ]
  },
  {
   "cell_type": "code",
   "execution_count": null,
   "id": "c5bf2c73",
   "metadata": {},
   "outputs": [],
   "source": [
    "population = pd.read_csv('../data/population_by_county.csv')\n",
    "population.head(2)"
   ]
  },
  {
   "cell_type": "markdown",
   "id": "e9f3aec4",
   "metadata": {},
   "source": [
    " 5. Merge the `physicians` DataFrame with the `population` DataFrame. Keep only the values for Tennessee. When you merge, be sure the include both the `population` and `urban` columns in the merged results. Save the result of the merge back to `physicians`."
   ]
  },
  {
   "cell_type": "code",
   "execution_count": null,
   "id": "1211a88a",
   "metadata": {},
   "outputs": [],
   "source": [
    "physicians.head(2)"
   ]
  },
  {
   "cell_type": "code",
   "execution_count": null,
   "id": "42a04ec0",
   "metadata": {},
   "outputs": [],
   "source": [
    "physicians = pd.merge(left = physicians[['FIPS', 'county', 'primary_care_physicians']],\n",
    "        right = population[['FIPS', 'population', 'urban']])"
   ]
  },
  {
   "cell_type": "markdown",
   "id": "ae05113d",
   "metadata": {},
   "source": [
    " 6. How many Tennessee counties are considered urban?"
   ]
  },
  {
   "cell_type": "code",
   "execution_count": null,
   "id": "bcc63094",
   "metadata": {},
   "outputs": [],
   "source": [
    "physicians['urban'].value_counts()"
   ]
  },
  {
   "cell_type": "markdown",
   "id": "844af40c",
   "metadata": {},
   "source": [
    " 7. The State Health Access Data Assistance Center (SHADAC) (https://www.shadac.org/) classifies counties into three groups based on the number of residents per primary care physician. First, counties with fewer than 1500 residents per primary care physician are considered to have an \"adequate\" supply. Counties with at least 1500 residents but fewer than 3500 residents per primary care physician are considered to have a \"moderately inadequate\" supply, and counties with at least 3500 residents per primary care physician are considered to have a \"low inadequate\" supply. How many counties in Tennessee are in each group?"
   ]
  },
  {
   "cell_type": "code",
   "execution_count": null,
   "id": "877344be",
   "metadata": {},
   "outputs": [],
   "source": [
    "physicians['residents_per_pcp'] = physicians['population'] / physicians['primary_care_physicians']\n",
    "physicians"
   ]
  },
  {
   "cell_type": "code",
   "execution_count": null,
   "id": "9aed3184",
   "metadata": {},
   "outputs": [],
   "source": [
    "physicians[physicians['residents_per_pcp'] < 1500].shape"
   ]
  },
  {
   "cell_type": "code",
   "execution_count": null,
   "id": "832d06f2",
   "metadata": {},
   "outputs": [],
   "source": [
    "physicians[(physicians['residents_per_pcp'] >= 1500) & (physicians['residents_per_pcp'] < 3500)].shape"
   ]
  },
  {
   "cell_type": "code",
   "execution_count": null,
   "id": "0b8a2d32",
   "metadata": {},
   "outputs": [],
   "source": [
    "physicians[(physicians['residents_per_pcp'] >= 3500)].shape"
   ]
  },
  {
   "cell_type": "markdown",
   "id": "d8882c29",
   "metadata": {},
   "source": [
    "8. Does there appear to be any detectable relationship between whether a county is urban or rural and its supply of primary care physicians?"
   ]
  },
  {
   "cell_type": "code",
   "execution_count": null,
   "id": "944aab5d",
   "metadata": {},
   "outputs": [],
   "source": [
    "physicians[physicians['residents_per_pcp'] < 1500]['urban'].value_counts(normalize = True)"
   ]
  },
  {
   "cell_type": "code",
   "execution_count": null,
   "id": "f5a45caf",
   "metadata": {},
   "outputs": [],
   "source": [
    "physicians[(physicians['residents_per_pcp'] >= 1500) & (physicians['residents_per_pcp'] < 3500)]['urban'].value_counts(normalize = True)"
   ]
  },
  {
   "cell_type": "code",
   "execution_count": null,
   "id": "a21a5387",
   "metadata": {},
   "outputs": [],
   "source": [
    "physicians[(physicians['residents_per_pcp'] >= 3500)]['urban'].value_counts(normalize = True)"
   ]
  }
 ],
 "metadata": {
  "kernelspec": {
   "display_name": "Python 3 (ipykernel)",
   "language": "python",
   "name": "python3"
  },
  "language_info": {
   "codemirror_mode": {
    "name": "ipython",
    "version": 3
   },
   "file_extension": ".py",
   "mimetype": "text/x-python",
   "name": "python",
   "nbconvert_exporter": "python",
   "pygments_lexer": "ipython3",
   "version": "3.8.3"
  }
 },
 "nbformat": 4,
 "nbformat_minor": 5
}
