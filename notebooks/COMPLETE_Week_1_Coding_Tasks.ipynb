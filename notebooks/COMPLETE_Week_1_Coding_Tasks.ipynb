{
 "cells": [
  {
   "cell_type": "markdown",
   "id": "f7566968",
   "metadata": {},
   "source": [
    "## Week 1 Coding Tasks\n",
    "\n",
    "A dataset containing information on US hospitals is contained in the data folder in the file `Hospitals.csv`. This datset was downloaded from [the Homeland Infrastructure Foundation-Level Data (HIFLD) database](https://hifld-geoplatform.opendata.arcgis.com/datasets/hospitals/explore)."
   ]
  },
  {
   "cell_type": "markdown",
   "id": "038d31b9",
   "metadata": {},
   "source": [
    "1. Read this dataset into a DataFrame named `hospitals`."
   ]
  },
  {
   "cell_type": "code",
   "execution_count": null,
   "id": "953d5bbb",
   "metadata": {},
   "outputs": [],
   "source": [
    "import pandas as pd"
   ]
  },
  {
   "cell_type": "code",
   "execution_count": null,
   "id": "c4295156",
   "metadata": {},
   "outputs": [],
   "source": [
    "hospitals = pd.read_csv('../data/Hospitals.csv')"
   ]
  },
  {
   "cell_type": "markdown",
   "id": "ad9a6819",
   "metadata": {},
   "source": [
    "2. Look at the first few rows and then look at the last few. What do you notice?"
   ]
  },
  {
   "cell_type": "code",
   "execution_count": null,
   "id": "9ca0d407",
   "metadata": {},
   "outputs": [],
   "source": [
    "hospitals.head()"
   ]
  },
  {
   "cell_type": "code",
   "execution_count": null,
   "id": "68dfdc70",
   "metadata": {},
   "outputs": [],
   "source": [
    "hospitals.tail()"
   ]
  },
  {
   "cell_type": "markdown",
   "id": "0b6fddb3",
   "metadata": {},
   "source": [
    "3. How many rows and columns does this DataFrame have?"
   ]
  },
  {
   "cell_type": "code",
   "execution_count": null,
   "id": "36ae2ae4",
   "metadata": {},
   "outputs": [],
   "source": [
    "hospitals.shape"
   ]
  },
  {
   "cell_type": "markdown",
   "id": "45e80391",
   "metadata": {},
   "source": [
    "4. We don't need all of the columns. Slice the dataframe down so that it only contains the following columns: 'NAME', 'ADDRESS', 'CITY', 'STATE', 'TYPE',  'POPULATION', 'COUNTY', 'COUNTYFIPS', 'NAICS_DESC', 'BEDS'"
   ]
  },
  {
   "cell_type": "code",
   "execution_count": null,
   "id": "69de3c0a",
   "metadata": {},
   "outputs": [],
   "source": [
    "hospitals = hospitals[['NAME', 'ADDRESS', 'CITY', 'STATE', 'TYPE', 'POPULATION', 'COUNTY', 'COUNTYFIPS', 'NAICS_DESC', 'BEDS']]\n",
    "hospitals.head()"
   ]
  },
  {
   "cell_type": "markdown",
   "id": "d71e96b8",
   "metadata": {},
   "source": [
    "5. What are the different hospital types (contained in the `TYPE` column)? Which is the most common?"
   ]
  },
  {
   "cell_type": "code",
   "execution_count": null,
   "id": "946d253f",
   "metadata": {},
   "outputs": [],
   "source": [
    "hospitals['TYPE'].value_counts()"
   ]
  },
  {
   "cell_type": "markdown",
   "id": "b32e3698",
   "metadata": {},
   "source": [
    "6. Find all hospitals in Nashville, Tennessee. Take a look at the BEDS column. What do you notice? Why do you think this is?"
   ]
  },
  {
   "cell_type": "code",
   "execution_count": null,
   "id": "8aa07bd5",
   "metadata": {},
   "outputs": [],
   "source": [
    "hospitals[(hospitals['CITY'] == 'NASHVILLE') & (hospitals['STATE'] == 'TN')]"
   ]
  },
  {
   "cell_type": "markdown",
   "id": "e0e09899",
   "metadata": {},
   "source": [
    "7. Which county in Tennessee has the most hospitals?"
   ]
  },
  {
   "cell_type": "code",
   "execution_count": null,
   "id": "3257b791",
   "metadata": {},
   "outputs": [],
   "source": [
    "hospitals[hospitals['STATE'] == 'TN']['COUNTY'].value_counts()"
   ]
  },
  {
   "cell_type": "markdown",
   "id": "d0bb8dde",
   "metadata": {},
   "source": [
    "8. There are 95 counties in Tennessee. How many of them have no hospitals at all?"
   ]
  },
  {
   "cell_type": "code",
   "execution_count": null,
   "id": "6075b2fc",
   "metadata": {},
   "outputs": [],
   "source": [
    "hospitals[hospitals['STATE'] == 'TN']['COUNTY'].nunique()"
   ]
  },
  {
   "cell_type": "markdown",
   "id": "1a2c5e99",
   "metadata": {},
   "source": [
    "If there are 95 total counties and 80 unique values in the county column, then there must be 15 counties with no hosptials."
   ]
  }
 ],
 "metadata": {
  "kernelspec": {
   "display_name": "Python 3 (ipykernel)",
   "language": "python",
   "name": "python3"
  },
  "language_info": {
   "codemirror_mode": {
    "name": "ipython",
    "version": 3
   },
   "file_extension": ".py",
   "mimetype": "text/x-python",
   "name": "python",
   "nbconvert_exporter": "python",
   "pygments_lexer": "ipython3",
   "version": "3.8.3"
  }
 },
 "nbformat": 4,
 "nbformat_minor": 5
}
