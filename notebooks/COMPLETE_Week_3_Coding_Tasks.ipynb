{
 "cells": [
  {
   "cell_type": "markdown",
   "id": "2babeb5f",
   "metadata": {},
   "source": [
    "## Week 3 Coding Tasks"
   ]
  },
  {
   "cell_type": "markdown",
   "id": "923cf887",
   "metadata": {},
   "source": [
    "This week, you will build off of your work from last week.\n",
    "1. First, (if you haven't done so already), create a new column indicating the SHADAC classification for each Tennessee county. You can use the following code to accomplish this:\n",
    "```\n",
    "physicians.loc[physicians['residents_per_pcp'] < 1500, 'shadac_category'] = 'adequate'\n",
    "physicians.loc[(physicians['residents_per_pcp'] >= 1500) & \n",
    "          (physicians['residents_per_pcp'] < 3500), 'shadac_category'] = 'moderately inadequate'\n",
    "physicians.loc[(physicians['residents_per_pcp'] >= 3500), 'shadac_category'] = 'low inadequate'\n",
    "```"
   ]
  },
  {
   "cell_type": "code",
   "execution_count": null,
   "id": "317d98ac",
   "metadata": {},
   "outputs": [],
   "source": [
    "import pandas as pd\n",
    "import matplotlib.pyplot as plt\n",
    "import seaborn as sns"
   ]
  },
  {
   "cell_type": "code",
   "execution_count": null,
   "id": "e61b8987",
   "metadata": {},
   "outputs": [],
   "source": [
    "physicians = pd.read_csv('../data/primary_care_physicians.csv')\n",
    "\n",
    "physicians = physicians[physicians['state'] == 'Tennessee']\n",
    "\n",
    "population = pd.read_csv('../data/population_by_county.csv')\n",
    "\n",
    "physicians = pd.merge(left = physicians[['FIPS', 'county', 'primary_care_physicians']],\n",
    "        right = population[['FIPS', 'population', 'urban']])\n",
    "\n",
    "physicians['residents_per_pcp'] = physicians['population'] / physicians['primary_care_physicians']"
   ]
  },
  {
   "cell_type": "code",
   "execution_count": null,
   "id": "c8050653",
   "metadata": {},
   "outputs": [],
   "source": [
    "physicians.loc[physicians['residents_per_pcp'] < 1500, 'shadac_category'] = 'adequate'\n",
    "physicians.loc[(physicians['residents_per_pcp'] >= 1500) & \n",
    "       (physicians['residents_per_pcp'] < 3500), 'shadac_category'] = 'moderately inadequate'\n",
    "physicians.loc[(physicians['residents_per_pcp'] >= 3500), 'shadac_category'] = 'low inadequate'"
   ]
  },
  {
   "cell_type": "markdown",
   "id": "081d5f07",
   "metadata": {},
   "source": [
    "2. Use this new column to investigate if there is any relationship between a county's status as urban or rural and its SHADAC classification. Create a plot showing what you find."
   ]
  },
  {
   "cell_type": "code",
   "execution_count": null,
   "id": "72ad2701",
   "metadata": {},
   "outputs": [],
   "source": [
    "# Note the .loc to sort the categories\n",
    "\n",
    "pd.crosstab(physicians['shadac_category'],\n",
    "            physicians['urban'],\n",
    "            normalize = 'index').loc[['adequate', 'moderately inadequate', 'low inadequate']].plot(kind = 'bar', \n",
    "                                                                    stacked = True,\n",
    "                                                                   edgecolor = 'black')\n",
    "\n",
    "plt.legend(bbox_to_anchor = (1, 0.75));"
   ]
  },
  {
   "cell_type": "markdown",
   "id": "239f0d65",
   "metadata": {},
   "source": [
    "3. Merge the unemployment data (contained in tn_unemployment.csv) into the physicians DataFrame."
   ]
  },
  {
   "cell_type": "code",
   "execution_count": null,
   "id": "bea53237",
   "metadata": {},
   "outputs": [],
   "source": [
    "unemployment = pd.read_csv('../data/tn_unemployment.csv')\n",
    "unemployment.head(2)"
   ]
  },
  {
   "cell_type": "code",
   "execution_count": null,
   "id": "18526277",
   "metadata": {},
   "outputs": [],
   "source": [
    "unemployment['Name'] = unemployment['Name'].str.split(' County', expand = True).loc[:,0]\n",
    "unemployment.head(2)"
   ]
  },
  {
   "cell_type": "code",
   "execution_count": null,
   "id": "1a30f538",
   "metadata": {},
   "outputs": [],
   "source": [
    "physicians = pd.merge(left = physicians,\n",
    "        right = unemployment[['Name', 'unemployment_rate']].rename(columns = {'Name': 'county'}))"
   ]
  },
  {
   "cell_type": "markdown",
   "id": "8fbf29e9",
   "metadata": {},
   "source": [
    "4. How do unemployment rates compare for urban counties versus rural counties?"
   ]
  },
  {
   "cell_type": "code",
   "execution_count": null,
   "id": "3c6328ab",
   "metadata": {},
   "outputs": [],
   "source": [
    "physicians.groupby('urban')['unemployment_rate'].describe()"
   ]
  },
  {
   "cell_type": "code",
   "execution_count": null,
   "id": "e391c617",
   "metadata": {},
   "outputs": [],
   "source": [
    "sns.boxplot(data = physicians, x = 'urban', y = 'unemployment_rate');"
   ]
  },
  {
   "cell_type": "markdown",
   "id": "ff3bf972",
   "metadata": {},
   "source": [
    "5. Create a new column, `pcp_per_100k` which contains the number of primary care physicians per 100,000 residents. Investigate the relationship between this new measure and the unemployment rate per county. What do you find?"
   ]
  },
  {
   "cell_type": "code",
   "execution_count": null,
   "id": "9e2ecd81",
   "metadata": {},
   "outputs": [],
   "source": [
    "physicians['pcp_per_100k'] = physicians['primary_care_physicians'] / physicians['population'] * 100000"
   ]
  },
  {
   "cell_type": "code",
   "execution_count": null,
   "id": "9d28bdc4",
   "metadata": {},
   "outputs": [],
   "source": [
    "physicians.plot(kind = 'scatter', x = 'unemployment_rate', y = 'pcp_per_100k');"
   ]
  }
 ],
 "metadata": {
  "kernelspec": {
   "display_name": "Python 3 (ipykernel)",
   "language": "python",
   "name": "python3"
  },
  "language_info": {
   "codemirror_mode": {
    "name": "ipython",
    "version": 3
   },
   "file_extension": ".py",
   "mimetype": "text/x-python",
   "name": "python",
   "nbconvert_exporter": "python",
   "pygments_lexer": "ipython3",
   "version": "3.8.3"
  }
 },
 "nbformat": 4,
 "nbformat_minor": 5
}
